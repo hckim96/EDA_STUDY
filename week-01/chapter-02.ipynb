{
 "metadata": {
  "language_info": {
   "codemirror_mode": {
    "name": "ipython",
    "version": 3
   },
   "file_extension": ".py",
   "mimetype": "text/x-python",
   "name": "python",
   "nbconvert_exporter": "python",
   "pygments_lexer": "ipython3",
   "version": "3.8.5-final"
  },
  "orig_nbformat": 2,
  "kernelspec": {
   "name": "Python 3.8.5 64-bit ('dataStudy': conda)",
   "display_name": "Python 3.8.5 64-bit ('dataStudy': conda)",
   "metadata": {
    "interpreter": {
     "hash": "a22da94b6d0eb1bb9e13ff23c6dec5d5d0682dd7591db237e737d29eb0bbf2ae"
    }
   }
  }
 },
 "nbformat": 4,
 "nbformat_minor": 2,
 "cells": [
  {
   "source": [
    "# CHAPTER 02. DataFrame 필수 연산\n",
    "\n",
    "## DataFrame에서 복수 열 선택\n"
   ],
   "cell_type": "markdown",
   "metadata": {}
  },
  {
   "cell_type": "code",
   "execution_count": 74,
   "metadata": {},
   "outputs": [
    {
     "output_type": "execute_result",
     "data": {
      "text/plain": "    director_name     actor_1_name\n0   James Cameron      CCH Pounder\n1  Gore Verbinski      Johnny Depp\n2      Sam Mendes  Christoph Waltz",
      "text/html": "<div>\n<style scoped>\n    .dataframe tbody tr th:only-of-type {\n        vertical-align: middle;\n    }\n\n    .dataframe tbody tr th {\n        vertical-align: top;\n    }\n\n    .dataframe thead th {\n        text-align: right;\n    }\n</style>\n<table border=\"1\" class=\"dataframe\">\n  <thead>\n    <tr style=\"text-align: right;\">\n      <th></th>\n      <th>director_name</th>\n      <th>actor_1_name</th>\n    </tr>\n  </thead>\n  <tbody>\n    <tr>\n      <th>0</th>\n      <td>James Cameron</td>\n      <td>CCH Pounder</td>\n    </tr>\n    <tr>\n      <th>1</th>\n      <td>Gore Verbinski</td>\n      <td>Johnny Depp</td>\n    </tr>\n    <tr>\n      <th>2</th>\n      <td>Sam Mendes</td>\n      <td>Christoph Waltz</td>\n    </tr>\n  </tbody>\n</table>\n</div>"
     },
     "metadata": {},
     "execution_count": 74
    }
   ],
   "source": [
    "import pandas as pd\n",
    "movie = pd.read_csv(\"../data/movie.csv\")\n",
    "movie[['director_name', \"actor_1_name\"]].head(3)\n"
   ]
  },
  {
   "source": [
    "### python list 사용하여 코드 가독성 높이기\n"
   ],
   "cell_type": "markdown",
   "metadata": {}
  },
  {
   "cell_type": "code",
   "execution_count": 75,
   "metadata": {},
   "outputs": [
    {
     "output_type": "execute_result",
     "data": {
      "text/plain": "    director_name     actor_1_name\n0   James Cameron      CCH Pounder\n1  Gore Verbinski      Johnny Depp\n2      Sam Mendes  Christoph Waltz",
      "text/html": "<div>\n<style scoped>\n    .dataframe tbody tr th:only-of-type {\n        vertical-align: middle;\n    }\n\n    .dataframe tbody tr th {\n        vertical-align: top;\n    }\n\n    .dataframe thead th {\n        text-align: right;\n    }\n</style>\n<table border=\"1\" class=\"dataframe\">\n  <thead>\n    <tr style=\"text-align: right;\">\n      <th></th>\n      <th>director_name</th>\n      <th>actor_1_name</th>\n    </tr>\n  </thead>\n  <tbody>\n    <tr>\n      <th>0</th>\n      <td>James Cameron</td>\n      <td>CCH Pounder</td>\n    </tr>\n    <tr>\n      <th>1</th>\n      <td>Gore Verbinski</td>\n      <td>Johnny Depp</td>\n    </tr>\n    <tr>\n      <th>2</th>\n      <td>Sam Mendes</td>\n      <td>Christoph Waltz</td>\n    </tr>\n  </tbody>\n</table>\n</div>"
     },
     "metadata": {},
     "execution_count": 75
    }
   ],
   "source": [
    "columns = [\"director_name\", \"actor_1_name\"]\n",
    "movie[columns].head(3)\n"
   ]
  },
  {
   "source": [
    "## 메서드를 사용한 열 선택\n"
   ],
   "cell_type": "markdown",
   "metadata": {}
  },
  {
   "source": [
    "### select_dtypes()\n"
   ],
   "cell_type": "markdown",
   "metadata": {}
  },
  {
   "cell_type": "code",
   "execution_count": 76,
   "metadata": {},
   "outputs": [
    {
     "output_type": "execute_result",
     "data": {
      "text/plain": "   num_voted_users  cast_total_facebook_likes  movie_facebook_likes\n0           886204                       4834                 33000\n1           471220                      48350                     0\n2           275868                      11700                 85000",
      "text/html": "<div>\n<style scoped>\n    .dataframe tbody tr th:only-of-type {\n        vertical-align: middle;\n    }\n\n    .dataframe tbody tr th {\n        vertical-align: top;\n    }\n\n    .dataframe thead th {\n        text-align: right;\n    }\n</style>\n<table border=\"1\" class=\"dataframe\">\n  <thead>\n    <tr style=\"text-align: right;\">\n      <th></th>\n      <th>num_voted_users</th>\n      <th>cast_total_facebook_likes</th>\n      <th>movie_facebook_likes</th>\n    </tr>\n  </thead>\n  <tbody>\n    <tr>\n      <th>0</th>\n      <td>886204</td>\n      <td>4834</td>\n      <td>33000</td>\n    </tr>\n    <tr>\n      <th>1</th>\n      <td>471220</td>\n      <td>48350</td>\n      <td>0</td>\n    </tr>\n    <tr>\n      <th>2</th>\n      <td>275868</td>\n      <td>11700</td>\n      <td>85000</td>\n    </tr>\n  </tbody>\n</table>\n</div>"
     },
     "metadata": {},
     "execution_count": 76
    }
   ],
   "source": [
    "movie.select_dtypes(include=['int']).head(3)"
   ]
  },
  {
   "source": [
    "### filter()"
   ],
   "cell_type": "markdown",
   "metadata": {}
  },
  {
   "cell_type": "code",
   "execution_count": 77,
   "metadata": {},
   "outputs": [
    {
     "output_type": "execute_result",
     "data": {
      "text/plain": "   director_facebook_likes  actor_3_facebook_likes  actor_1_facebook_likes  \\\n0                      0.0                   855.0                  1000.0   \n1                    563.0                  1000.0                 40000.0   \n2                      0.0                   161.0                 11000.0   \n\n   cast_total_facebook_likes  actor_2_facebook_likes  movie_facebook_likes  \n0                       4834                   936.0                 33000  \n1                      48350                  5000.0                     0  \n2                      11700                   393.0                 85000  ",
      "text/html": "<div>\n<style scoped>\n    .dataframe tbody tr th:only-of-type {\n        vertical-align: middle;\n    }\n\n    .dataframe tbody tr th {\n        vertical-align: top;\n    }\n\n    .dataframe thead th {\n        text-align: right;\n    }\n</style>\n<table border=\"1\" class=\"dataframe\">\n  <thead>\n    <tr style=\"text-align: right;\">\n      <th></th>\n      <th>director_facebook_likes</th>\n      <th>actor_3_facebook_likes</th>\n      <th>actor_1_facebook_likes</th>\n      <th>cast_total_facebook_likes</th>\n      <th>actor_2_facebook_likes</th>\n      <th>movie_facebook_likes</th>\n    </tr>\n  </thead>\n  <tbody>\n    <tr>\n      <th>0</th>\n      <td>0.0</td>\n      <td>855.0</td>\n      <td>1000.0</td>\n      <td>4834</td>\n      <td>936.0</td>\n      <td>33000</td>\n    </tr>\n    <tr>\n      <th>1</th>\n      <td>563.0</td>\n      <td>1000.0</td>\n      <td>40000.0</td>\n      <td>48350</td>\n      <td>5000.0</td>\n      <td>0</td>\n    </tr>\n    <tr>\n      <th>2</th>\n      <td>0.0</td>\n      <td>161.0</td>\n      <td>11000.0</td>\n      <td>11700</td>\n      <td>393.0</td>\n      <td>85000</td>\n    </tr>\n  </tbody>\n</table>\n</div>"
     },
     "metadata": {},
     "execution_count": 77
    }
   ],
   "source": [
    "movie.filter(like=\"facebook\").head(3)\n"
   ]
  },
  {
   "cell_type": "code",
   "execution_count": 78,
   "metadata": {},
   "outputs": [
    {
     "output_type": "execute_result",
     "data": {
      "text/plain": "    director_name  director_facebook_likes\n0   James Cameron                      0.0\n1  Gore Verbinski                    563.0\n2      Sam Mendes                      0.0",
      "text/html": "<div>\n<style scoped>\n    .dataframe tbody tr th:only-of-type {\n        vertical-align: middle;\n    }\n\n    .dataframe tbody tr th {\n        vertical-align: top;\n    }\n\n    .dataframe thead th {\n        text-align: right;\n    }\n</style>\n<table border=\"1\" class=\"dataframe\">\n  <thead>\n    <tr style=\"text-align: right;\">\n      <th></th>\n      <th>director_name</th>\n      <th>director_facebook_likes</th>\n    </tr>\n  </thead>\n  <tbody>\n    <tr>\n      <th>0</th>\n      <td>James Cameron</td>\n      <td>0.0</td>\n    </tr>\n    <tr>\n      <th>1</th>\n      <td>Gore Verbinski</td>\n      <td>563.0</td>\n    </tr>\n    <tr>\n      <th>2</th>\n      <td>Sam Mendes</td>\n      <td>0.0</td>\n    </tr>\n  </tbody>\n</table>\n</div>"
     },
     "metadata": {},
     "execution_count": 78
    }
   ],
   "source": [
    "movie.filter(regex=\"^dir\").head(3)\n"
   ]
  },
  {
   "cell_type": "code",
   "execution_count": 79,
   "metadata": {},
   "outputs": [
    {
     "output_type": "execute_result",
     "data": {
      "text/plain": "    director_name\n0   James Cameron\n1  Gore Verbinski\n2      Sam Mendes",
      "text/html": "<div>\n<style scoped>\n    .dataframe tbody tr th:only-of-type {\n        vertical-align: middle;\n    }\n\n    .dataframe tbody tr th {\n        vertical-align: top;\n    }\n\n    .dataframe thead th {\n        text-align: right;\n    }\n</style>\n<table border=\"1\" class=\"dataframe\">\n  <thead>\n    <tr style=\"text-align: right;\">\n      <th></th>\n      <th>director_name</th>\n    </tr>\n  </thead>\n  <tbody>\n    <tr>\n      <th>0</th>\n      <td>James Cameron</td>\n    </tr>\n    <tr>\n      <th>1</th>\n      <td>Gore Verbinski</td>\n    </tr>\n    <tr>\n      <th>2</th>\n      <td>Sam Mendes</td>\n    </tr>\n  </tbody>\n</table>\n</div>"
     },
     "metadata": {},
     "execution_count": 79
    }
   ],
   "source": [
    "movie.filter(items=[\"director_name\", \"bacasdf\"]).head(3)\n",
    "# 인덱싱 연산자와 다르게 없는 칼럼이 있어도 KeyError 안내고 그냥 없이 출력함\n",
    "\n"
   ]
  },
  {
   "source": [
    "## 열 이름 일목요연하게 정렬하기\n",
    "\n",
    "- 비슷한거 모아서 열 순서 정렬하기\n",
    "- 중요한거 먼저 나타내기\n"
   ],
   "cell_type": "markdown",
   "metadata": {}
  },
  {
   "source": [
    "## 전체 DataFrame에 대한 연산\n",
    "\n",
    "- 각 열에 대해 연산\n"
   ],
   "cell_type": "markdown",
   "metadata": {}
  },
  {
   "cell_type": "code",
   "execution_count": 80,
   "metadata": {},
   "outputs": [
    {
     "output_type": "execute_result",
     "data": {
      "text/plain": "color                     4897\ndirector_name             4814\nnum_critic_for_reviews    4867\ndtype: int64"
     },
     "metadata": {},
     "execution_count": 80
    }
   ],
   "source": [
    "movie.count().head(3) # Series\n"
   ]
  },
  {
   "cell_type": "code",
   "execution_count": 81,
   "metadata": {},
   "outputs": [
    {
     "output_type": "execute_result",
     "data": {
      "text/plain": "num_critic_for_reviews       813\nduration                     511\ndirector_facebook_likes    23000\ndtype: object"
     },
     "metadata": {},
     "execution_count": 81
    }
   ],
   "source": [
    "movie.max().head(3)\n"
   ]
  },
  {
   "cell_type": "code",
   "execution_count": 82,
   "metadata": {},
   "outputs": [
    {
     "output_type": "execute_result",
     "data": {
      "text/plain": "       num_critic_for_reviews     duration  director_facebook_likes  \\\ncount             4867.000000  4901.000000              4814.000000   \nmean               137.988905   107.090798               691.014541   \nstd                120.239379    25.286015              2832.954125   \n\n       actor_3_facebook_likes  actor_1_facebook_likes         gross  \\\ncount             4893.000000             4909.000000  4.054000e+03   \nmean               631.276313             6494.488491  4.764451e+07   \nstd               1625.874802            15106.986884  6.737255e+07   \n\n       num_voted_users  cast_total_facebook_likes  facenumber_in_poster  \\\ncount      4916.000000                4916.000000           4903.000000   \nmean      82644.924939                9579.815907              1.377320   \nstd      138322.162547               18164.316990              2.023826   \n\n       num_user_for_reviews        budget   title_year  \\\ncount           4895.000000  4.432000e+03  4810.000000   \nmean             267.668846  3.654749e+07  2002.447609   \nstd              372.934839  1.002427e+08    12.453977   \n\n       actor_2_facebook_likes   imdb_score  aspect_ratio  movie_facebook_likes  \ncount             4903.000000  4916.000000   4590.000000           4916.000000  \nmean              1621.923516     6.437429      2.222349           7348.294142  \nstd               4011.299523     1.127802      1.402940          19206.016458  ",
      "text/html": "<div>\n<style scoped>\n    .dataframe tbody tr th:only-of-type {\n        vertical-align: middle;\n    }\n\n    .dataframe tbody tr th {\n        vertical-align: top;\n    }\n\n    .dataframe thead th {\n        text-align: right;\n    }\n</style>\n<table border=\"1\" class=\"dataframe\">\n  <thead>\n    <tr style=\"text-align: right;\">\n      <th></th>\n      <th>num_critic_for_reviews</th>\n      <th>duration</th>\n      <th>director_facebook_likes</th>\n      <th>actor_3_facebook_likes</th>\n      <th>actor_1_facebook_likes</th>\n      <th>gross</th>\n      <th>num_voted_users</th>\n      <th>cast_total_facebook_likes</th>\n      <th>facenumber_in_poster</th>\n      <th>num_user_for_reviews</th>\n      <th>budget</th>\n      <th>title_year</th>\n      <th>actor_2_facebook_likes</th>\n      <th>imdb_score</th>\n      <th>aspect_ratio</th>\n      <th>movie_facebook_likes</th>\n    </tr>\n  </thead>\n  <tbody>\n    <tr>\n      <th>count</th>\n      <td>4867.000000</td>\n      <td>4901.000000</td>\n      <td>4814.000000</td>\n      <td>4893.000000</td>\n      <td>4909.000000</td>\n      <td>4.054000e+03</td>\n      <td>4916.000000</td>\n      <td>4916.000000</td>\n      <td>4903.000000</td>\n      <td>4895.000000</td>\n      <td>4.432000e+03</td>\n      <td>4810.000000</td>\n      <td>4903.000000</td>\n      <td>4916.000000</td>\n      <td>4590.000000</td>\n      <td>4916.000000</td>\n    </tr>\n    <tr>\n      <th>mean</th>\n      <td>137.988905</td>\n      <td>107.090798</td>\n      <td>691.014541</td>\n      <td>631.276313</td>\n      <td>6494.488491</td>\n      <td>4.764451e+07</td>\n      <td>82644.924939</td>\n      <td>9579.815907</td>\n      <td>1.377320</td>\n      <td>267.668846</td>\n      <td>3.654749e+07</td>\n      <td>2002.447609</td>\n      <td>1621.923516</td>\n      <td>6.437429</td>\n      <td>2.222349</td>\n      <td>7348.294142</td>\n    </tr>\n    <tr>\n      <th>std</th>\n      <td>120.239379</td>\n      <td>25.286015</td>\n      <td>2832.954125</td>\n      <td>1625.874802</td>\n      <td>15106.986884</td>\n      <td>6.737255e+07</td>\n      <td>138322.162547</td>\n      <td>18164.316990</td>\n      <td>2.023826</td>\n      <td>372.934839</td>\n      <td>1.002427e+08</td>\n      <td>12.453977</td>\n      <td>4011.299523</td>\n      <td>1.127802</td>\n      <td>1.402940</td>\n      <td>19206.016458</td>\n    </tr>\n  </tbody>\n</table>\n</div>"
     },
     "metadata": {},
     "execution_count": 82
    }
   ],
   "source": [
    "movie.describe().head(3)\n"
   ]
  },
  {
   "source": [
    "## DataFrame 메서드 체인으로 묶기\n"
   ],
   "cell_type": "markdown",
   "metadata": {}
  },
  {
   "cell_type": "code",
   "execution_count": 83,
   "metadata": {},
   "outputs": [
    {
     "output_type": "execute_result",
     "data": {
      "text/plain": "   color  director_name  num_critic_for_reviews  duration  \\\n0  False          False                   False     False   \n1  False          False                   False     False   \n2  False          False                   False     False   \n\n   director_facebook_likes  actor_3_facebook_likes  actor_2_name  \\\n0                    False                   False         False   \n1                    False                   False         False   \n2                    False                   False         False   \n\n   actor_1_facebook_likes  gross  genres  ...  num_user_for_reviews  language  \\\n0                   False  False   False  ...                 False     False   \n1                   False  False   False  ...                 False     False   \n2                   False  False   False  ...                 False     False   \n\n   country  content_rating  budget  title_year  actor_2_facebook_likes  \\\n0    False           False   False       False                   False   \n1    False           False   False       False                   False   \n2    False           False   False       False                   False   \n\n   imdb_score  aspect_ratio  movie_facebook_likes  \n0       False         False                 False  \n1       False         False                 False  \n2       False         False                 False  \n\n[3 rows x 28 columns]",
      "text/html": "<div>\n<style scoped>\n    .dataframe tbody tr th:only-of-type {\n        vertical-align: middle;\n    }\n\n    .dataframe tbody tr th {\n        vertical-align: top;\n    }\n\n    .dataframe thead th {\n        text-align: right;\n    }\n</style>\n<table border=\"1\" class=\"dataframe\">\n  <thead>\n    <tr style=\"text-align: right;\">\n      <th></th>\n      <th>color</th>\n      <th>director_name</th>\n      <th>num_critic_for_reviews</th>\n      <th>duration</th>\n      <th>director_facebook_likes</th>\n      <th>actor_3_facebook_likes</th>\n      <th>actor_2_name</th>\n      <th>actor_1_facebook_likes</th>\n      <th>gross</th>\n      <th>genres</th>\n      <th>...</th>\n      <th>num_user_for_reviews</th>\n      <th>language</th>\n      <th>country</th>\n      <th>content_rating</th>\n      <th>budget</th>\n      <th>title_year</th>\n      <th>actor_2_facebook_likes</th>\n      <th>imdb_score</th>\n      <th>aspect_ratio</th>\n      <th>movie_facebook_likes</th>\n    </tr>\n  </thead>\n  <tbody>\n    <tr>\n      <th>0</th>\n      <td>False</td>\n      <td>False</td>\n      <td>False</td>\n      <td>False</td>\n      <td>False</td>\n      <td>False</td>\n      <td>False</td>\n      <td>False</td>\n      <td>False</td>\n      <td>False</td>\n      <td>...</td>\n      <td>False</td>\n      <td>False</td>\n      <td>False</td>\n      <td>False</td>\n      <td>False</td>\n      <td>False</td>\n      <td>False</td>\n      <td>False</td>\n      <td>False</td>\n      <td>False</td>\n    </tr>\n    <tr>\n      <th>1</th>\n      <td>False</td>\n      <td>False</td>\n      <td>False</td>\n      <td>False</td>\n      <td>False</td>\n      <td>False</td>\n      <td>False</td>\n      <td>False</td>\n      <td>False</td>\n      <td>False</td>\n      <td>...</td>\n      <td>False</td>\n      <td>False</td>\n      <td>False</td>\n      <td>False</td>\n      <td>False</td>\n      <td>False</td>\n      <td>False</td>\n      <td>False</td>\n      <td>False</td>\n      <td>False</td>\n    </tr>\n    <tr>\n      <th>2</th>\n      <td>False</td>\n      <td>False</td>\n      <td>False</td>\n      <td>False</td>\n      <td>False</td>\n      <td>False</td>\n      <td>False</td>\n      <td>False</td>\n      <td>False</td>\n      <td>False</td>\n      <td>...</td>\n      <td>False</td>\n      <td>False</td>\n      <td>False</td>\n      <td>False</td>\n      <td>False</td>\n      <td>False</td>\n      <td>False</td>\n      <td>False</td>\n      <td>False</td>\n      <td>False</td>\n    </tr>\n  </tbody>\n</table>\n<p>3 rows × 28 columns</p>\n</div>"
     },
     "metadata": {},
     "execution_count": 83
    }
   ],
   "source": [
    "movie.isnull().head(3) #DataFrame\n"
   ]
  },
  {
   "cell_type": "code",
   "execution_count": 84,
   "metadata": {},
   "outputs": [
    {
     "output_type": "execute_result",
     "data": {
      "text/plain": "color                      19\ndirector_name             102\nnum_critic_for_reviews     49\ndtype: int64"
     },
     "metadata": {},
     "execution_count": 84
    }
   ],
   "source": [
    "movie.isnull().sum().head(3) # Series\n"
   ]
  },
  {
   "cell_type": "code",
   "execution_count": 85,
   "metadata": {},
   "outputs": [
    {
     "output_type": "execute_result",
     "data": {
      "text/plain": "2654"
     },
     "metadata": {},
     "execution_count": 85
    }
   ],
   "source": [
    "movie.isnull().sum().sum()"
   ]
  },
  {
   "cell_type": "code",
   "execution_count": 86,
   "metadata": {},
   "outputs": [
    {
     "output_type": "execute_result",
     "data": {
      "text/plain": "color                         True\ndirector_name                 True\nnum_critic_for_reviews        True\nduration                      True\ndirector_facebook_likes       True\nactor_3_facebook_likes        True\nactor_2_name                  True\nactor_1_facebook_likes        True\ngross                         True\ngenres                       False\nactor_1_name                  True\nmovie_title                  False\nnum_voted_users              False\ncast_total_facebook_likes    False\nactor_3_name                  True\nfacenumber_in_poster          True\nplot_keywords                 True\nmovie_imdb_link              False\nnum_user_for_reviews          True\nlanguage                      True\ncountry                       True\ncontent_rating                True\nbudget                        True\ntitle_year                    True\nactor_2_facebook_likes        True\nimdb_score                   False\naspect_ratio                  True\nmovie_facebook_likes         False\ndtype: bool"
     },
     "metadata": {},
     "execution_count": 86
    }
   ],
   "source": [
    "movie.isnull().any() #Series\n"
   ]
  },
  {
   "cell_type": "code",
   "execution_count": 87,
   "metadata": {},
   "outputs": [
    {
     "output_type": "execute_result",
     "data": {
      "text/plain": "True"
     },
     "metadata": {},
     "execution_count": 87
    }
   ],
   "source": [
    "movie.isnull().any().any()\n"
   ]
  },
  {
   "source": [
    "## DataFrame에서 연산자 이용\n",
    "\n",
    "- dataframe 의 데이터 타입이 동질이어야 가능.\n"
   ],
   "cell_type": "markdown",
   "metadata": {}
  },
  {
   "cell_type": "code",
   "execution_count": 94,
   "metadata": {},
   "outputs": [
    {
     "output_type": "execute_result",
     "data": {
      "text/plain": "                                     UGDS_WHITE  UGDS_BLACK  UGDS_HISP  \\\nINSTNM                                                                   \nAlabama A & M University                 0.0333      0.9353     0.0055   \nUniversity of Alabama at Birmingham      0.5922      0.2600     0.0283   \nAmridge University                       0.2990      0.4192     0.0069   \n\n                                     UGDS_ASIAN  UGDS_AIAN  UGDS_NHPI  \\\nINSTNM                                                                  \nAlabama A & M University                 0.0019     0.0024     0.0019   \nUniversity of Alabama at Birmingham      0.0518     0.0022     0.0007   \nAmridge University                       0.0034     0.0000     0.0000   \n\n                                     UGDS_2MOR  UGDS_NRA  UGDS_UNKN  \nINSTNM                                                               \nAlabama A & M University                0.0000    0.0059     0.0138  \nUniversity of Alabama at Birmingham     0.0368    0.0179     0.0100  \nAmridge University                      0.0000    0.0000     0.2715  ",
      "text/html": "<div>\n<style scoped>\n    .dataframe tbody tr th:only-of-type {\n        vertical-align: middle;\n    }\n\n    .dataframe tbody tr th {\n        vertical-align: top;\n    }\n\n    .dataframe thead th {\n        text-align: right;\n    }\n</style>\n<table border=\"1\" class=\"dataframe\">\n  <thead>\n    <tr style=\"text-align: right;\">\n      <th></th>\n      <th>UGDS_WHITE</th>\n      <th>UGDS_BLACK</th>\n      <th>UGDS_HISP</th>\n      <th>UGDS_ASIAN</th>\n      <th>UGDS_AIAN</th>\n      <th>UGDS_NHPI</th>\n      <th>UGDS_2MOR</th>\n      <th>UGDS_NRA</th>\n      <th>UGDS_UNKN</th>\n    </tr>\n    <tr>\n      <th>INSTNM</th>\n      <th></th>\n      <th></th>\n      <th></th>\n      <th></th>\n      <th></th>\n      <th></th>\n      <th></th>\n      <th></th>\n      <th></th>\n    </tr>\n  </thead>\n  <tbody>\n    <tr>\n      <th>Alabama A &amp; M University</th>\n      <td>0.0333</td>\n      <td>0.9353</td>\n      <td>0.0055</td>\n      <td>0.0019</td>\n      <td>0.0024</td>\n      <td>0.0019</td>\n      <td>0.0000</td>\n      <td>0.0059</td>\n      <td>0.0138</td>\n    </tr>\n    <tr>\n      <th>University of Alabama at Birmingham</th>\n      <td>0.5922</td>\n      <td>0.2600</td>\n      <td>0.0283</td>\n      <td>0.0518</td>\n      <td>0.0022</td>\n      <td>0.0007</td>\n      <td>0.0368</td>\n      <td>0.0179</td>\n      <td>0.0100</td>\n    </tr>\n    <tr>\n      <th>Amridge University</th>\n      <td>0.2990</td>\n      <td>0.4192</td>\n      <td>0.0069</td>\n      <td>0.0034</td>\n      <td>0.0000</td>\n      <td>0.0000</td>\n      <td>0.0000</td>\n      <td>0.0000</td>\n      <td>0.2715</td>\n    </tr>\n  </tbody>\n</table>\n</div>"
     },
     "metadata": {},
     "execution_count": 94
    }
   ],
   "source": [
    "college = pd.read_csv(\"../data/college.csv\",index_col = \"INSTNM\")\n",
    "\n",
    "college_ugds = college.filter(like = \"UGDS_\")\n",
    "college_ugds.head(3)\n"
   ]
  },
  {
   "source": [
    "### 소수점 아래 세번째 자리에서 반올림 하기\n"
   ],
   "cell_type": "markdown",
   "metadata": {}
  },
  {
   "cell_type": "code",
   "execution_count": 101,
   "metadata": {},
   "outputs": [
    {
     "output_type": "execute_result",
     "data": {
      "text/plain": "                                     UGDS_WHITE  UGDS_BLACK  UGDS_HISP  \\\nINSTNM                                                                   \nAlabama A & M University                   0.03        0.94       0.01   \nUniversity of Alabama at Birmingham        0.59        0.26       0.03   \nAmridge University                         0.30        0.42       0.01   \n\n                                     UGDS_ASIAN  UGDS_AIAN  UGDS_NHPI  \\\nINSTNM                                                                  \nAlabama A & M University                   0.00        0.0        0.0   \nUniversity of Alabama at Birmingham        0.05        0.0        0.0   \nAmridge University                         0.00        0.0        0.0   \n\n                                     UGDS_2MOR  UGDS_NRA  UGDS_UNKN  \nINSTNM                                                               \nAlabama A & M University                  0.00      0.01       0.01  \nUniversity of Alabama at Birmingham       0.04      0.02       0.01  \nAmridge University                        0.00      0.00       0.27  ",
      "text/html": "<div>\n<style scoped>\n    .dataframe tbody tr th:only-of-type {\n        vertical-align: middle;\n    }\n\n    .dataframe tbody tr th {\n        vertical-align: top;\n    }\n\n    .dataframe thead th {\n        text-align: right;\n    }\n</style>\n<table border=\"1\" class=\"dataframe\">\n  <thead>\n    <tr style=\"text-align: right;\">\n      <th></th>\n      <th>UGDS_WHITE</th>\n      <th>UGDS_BLACK</th>\n      <th>UGDS_HISP</th>\n      <th>UGDS_ASIAN</th>\n      <th>UGDS_AIAN</th>\n      <th>UGDS_NHPI</th>\n      <th>UGDS_2MOR</th>\n      <th>UGDS_NRA</th>\n      <th>UGDS_UNKN</th>\n    </tr>\n    <tr>\n      <th>INSTNM</th>\n      <th></th>\n      <th></th>\n      <th></th>\n      <th></th>\n      <th></th>\n      <th></th>\n      <th></th>\n      <th></th>\n      <th></th>\n    </tr>\n  </thead>\n  <tbody>\n    <tr>\n      <th>Alabama A &amp; M University</th>\n      <td>0.03</td>\n      <td>0.94</td>\n      <td>0.01</td>\n      <td>0.00</td>\n      <td>0.0</td>\n      <td>0.0</td>\n      <td>0.00</td>\n      <td>0.01</td>\n      <td>0.01</td>\n    </tr>\n    <tr>\n      <th>University of Alabama at Birmingham</th>\n      <td>0.59</td>\n      <td>0.26</td>\n      <td>0.03</td>\n      <td>0.05</td>\n      <td>0.0</td>\n      <td>0.0</td>\n      <td>0.04</td>\n      <td>0.02</td>\n      <td>0.01</td>\n    </tr>\n    <tr>\n      <th>Amridge University</th>\n      <td>0.30</td>\n      <td>0.42</td>\n      <td>0.01</td>\n      <td>0.00</td>\n      <td>0.0</td>\n      <td>0.0</td>\n      <td>0.00</td>\n      <td>0.00</td>\n      <td>0.27</td>\n    </tr>\n  </tbody>\n</table>\n</div>"
     },
     "metadata": {},
     "execution_count": 101
    }
   ],
   "source": [
    "((college_ugds + 0.00501) // 0.01 / 100).head(3)\n"
   ]
  },
  {
   "source": [
    "## 누락값 비교\n",
    "\n",
    "- pandas 에서 데이터 누락 값은 numpy 의 nan 객체로 나타낸다.\n",
    "- np.nan 은 == 연산을 통해 False 만 나온다. (자기 자신 포함)\n",
    "- Series 와 DataFrame 에서 누락 값을 찾을 때 == np.nan 과 같은 식으로 하면 안된다.(eq 도 안됨) (isnull() 사용)\n",
    "- 두 객체 비교 할때는 equals 를 쓰자.\n"
   ],
   "cell_type": "markdown",
   "metadata": {}
  },
  {
   "cell_type": "code",
   "execution_count": 117,
   "metadata": {},
   "outputs": [
    {
     "output_type": "execute_result",
     "data": {
      "text/plain": "0"
     },
     "metadata": {},
     "execution_count": 117
    }
   ],
   "source": [
    "import numpy as np\n",
    "\n",
    "(college_ugds == np.nan).sum().sum()\n"
   ]
  },
  {
   "cell_type": "code",
   "execution_count": 115,
   "metadata": {},
   "outputs": [
    {
     "output_type": "execute_result",
     "data": {
      "text/plain": "5949"
     },
     "metadata": {},
     "execution_count": 115
    }
   ],
   "source": [
    "college_ugds.isnull().sum().sum()"
   ]
  },
  {
   "source": [
    "## DataFrame 연산의 방향 바꾸기\n",
    "\n",
    "- DataFrame 메서드는 axis 매개변수 있음. 디폴트 = index,\n",
    "- axis = columns 로 하면 열 방향으로 연산할 수 있다.(각 행의 열들을 연산)\n"
   ],
   "cell_type": "markdown",
   "metadata": {}
  },
  {
   "cell_type": "code",
   "execution_count": 120,
   "metadata": {},
   "outputs": [
    {
     "output_type": "execute_result",
     "data": {
      "text/plain": "UGDS_WHITE    6874\nUGDS_BLACK    6874\nUGDS_HISP     6874\ndtype: int64"
     },
     "metadata": {},
     "execution_count": 120
    }
   ],
   "source": [
    "college_ugds.count().head(3)\n"
   ]
  },
  {
   "cell_type": "code",
   "execution_count": 121,
   "metadata": {},
   "outputs": [
    {
     "output_type": "execute_result",
     "data": {
      "text/plain": "INSTNM\nAlabama A & M University               9\nUniversity of Alabama at Birmingham    9\nAmridge University                     9\ndtype: int64"
     },
     "metadata": {},
     "execution_count": 121
    }
   ],
   "source": [
    "college_ugds.count(axis=\"columns\").head(3)"
   ]
  },
  {
   "source": [
    "## 대학 캠퍼스의 다양성 지수 발견\n",
    "\n",
    "### 9개 인종 중에 차지 비율이 15퍼가 넘는 인종의 수를 대학별로 나타내기\n",
    "\n"
   ],
   "cell_type": "markdown",
   "metadata": {}
  },
  {
   "cell_type": "code",
   "execution_count": 146,
   "metadata": {},
   "outputs": [
    {
     "output_type": "execute_result",
     "data": {
      "text/plain": "INSTNM\nRegency Beauty Institute-Austin          5\nCentral Texas Beauty College-Temple      5\nSullivan and Cogliano Training Center    4\nAmbria College of Nursing                4\nBerkeley College-New York                4\ndtype: int64"
     },
     "metadata": {},
     "execution_count": 146
    }
   ],
   "source": [
    "college_ugds.dropna(how=\"all\").ge(.15).sum(axis=1).sort_values(ascending=False).head()"
   ]
  }
 ]
}