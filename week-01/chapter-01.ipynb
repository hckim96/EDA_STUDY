{
 "metadata": {
  "language_info": {
   "codemirror_mode": {
    "name": "ipython",
    "version": 3
   },
   "file_extension": ".py",
   "mimetype": "text/x-python",
   "name": "python",
   "nbconvert_exporter": "python",
   "pygments_lexer": "ipython3",
   "version": "3.8.5-final"
  },
  "orig_nbformat": 2,
  "kernelspec": {
   "name": "Python 3.8.5 64-bit ('dataStudy': conda)",
   "display_name": "Python 3.8.5 64-bit ('dataStudy': conda)",
   "metadata": {
    "interpreter": {
     "hash": "a22da94b6d0eb1bb9e13ff23c6dec5d5d0682dd7591db237e737d29eb0bbf2ae"
    }
   }
  }
 },
 "nbformat": 4,
 "nbformat_minor": 2,
 "cells": [
  {
   "source": [
    "# CHAPTER 01. pandas 기초\n",
    "\n",
    "## DataFrame\n",
    "\n",
    "- 인덱스, 열, 데이터로 구성\n",
    "\n",
    "- Instance variable\n",
    "    - index\n",
    "        - type: RangeIndex 로 Index의 subclass 이다\n",
    "    - columns\n",
    "        - type: Index\n",
    "    - values\n",
    "        - type: numpy.ndarray \n",
    "\n"
   ],
   "cell_type": "markdown",
   "metadata": {}
  },
  {
   "cell_type": "code",
   "execution_count": 16,
   "metadata": {
    "tags": []
   },
   "outputs": [
    {
     "output_type": "stream",
     "name": "stdout",
     "text": "RangeIndex(start=0, stop=4916, step=1)\n[   0    1    2 ... 4913 4914 4915]\nIndex(['color', 'director_name', 'num_critic_for_reviews', 'duration',\n       'director_facebook_likes', 'actor_3_facebook_likes', 'actor_2_name',\n       'actor_1_facebook_likes', 'gross', 'genres', 'actor_1_name',\n       'movie_title', 'num_voted_users', 'cast_total_facebook_likes',\n       'actor_3_name', 'facenumber_in_poster', 'plot_keywords',\n       'movie_imdb_link', 'num_user_for_reviews', 'language', 'country',\n       'content_rating', 'budget', 'title_year', 'actor_2_facebook_likes',\n       'imdb_score', 'aspect_ratio', 'movie_facebook_likes'],\n      dtype='object')\n['color' 'director_name' 'num_critic_for_reviews' 'duration'\n 'director_facebook_likes' 'actor_3_facebook_likes' 'actor_2_name'\n 'actor_1_facebook_likes' 'gross' 'genres' 'actor_1_name' 'movie_title'\n 'num_voted_users' 'cast_total_facebook_likes' 'actor_3_name'\n 'facenumber_in_poster' 'plot_keywords' 'movie_imdb_link'\n 'num_user_for_reviews' 'language' 'country' 'content_rating' 'budget'\n 'title_year' 'actor_2_facebook_likes' 'imdb_score' 'aspect_ratio'\n 'movie_facebook_likes']\n[['Color' 'James Cameron' 723.0 ... 7.9 1.78 33000]\n ['Color' 'Gore Verbinski' 302.0 ... 7.1 2.35 0]\n ['Color' 'Sam Mendes' 602.0 ... 6.8 2.35 85000]\n ...\n ['Color' 'Benjamin Roberds' 13.0 ... 6.3 nan 16]\n ['Color' 'Daniel Hsia' 14.0 ... 6.3 2.35 660]\n ['Color' 'Jon Gunn' 43.0 ... 6.6 1.85 456]]\n"
    }
   ],
   "source": [
    "import pandas as pd\n",
    "movie = pd.read_csv(\"../data/movie.csv\")\n",
    "\n",
    "index = movie.index\n",
    "columns = movie.columns\n",
    "values = movie.values\n",
    "\n",
    "print(index)\n",
    "print(index.values)\n",
    "print(columns)\n",
    "print(columns.values)\n",
    "print(values)\n",
    "\n"
   ]
  },
  {
   "source": [
    "- Methods\n",
    "    - head(num)\n",
    "        - num 만큼 데이터 출력 default = 5\n"
   ],
   "cell_type": "markdown",
   "metadata": {}
  },
  {
   "source": [
    "movie.head(2)"
   ],
   "cell_type": "code",
   "metadata": {
    "tags": []
   },
   "execution_count": 17,
   "outputs": [
    {
     "output_type": "execute_result",
     "data": {
      "text/plain": "   color   director_name  num_critic_for_reviews  duration  \\\n0  Color   James Cameron                   723.0     178.0   \n1  Color  Gore Verbinski                   302.0     169.0   \n\n   director_facebook_likes  actor_3_facebook_likes      actor_2_name  \\\n0                      0.0                   855.0  Joel David Moore   \n1                    563.0                  1000.0     Orlando Bloom   \n\n   actor_1_facebook_likes        gross                           genres  ...  \\\n0                  1000.0  760505847.0  Action|Adventure|Fantasy|Sci-Fi  ...   \n1                 40000.0  309404152.0         Action|Adventure|Fantasy  ...   \n\n  num_user_for_reviews language  country  content_rating       budget  \\\n0               3054.0  English      USA           PG-13  237000000.0   \n1               1238.0  English      USA           PG-13  300000000.0   \n\n   title_year actor_2_facebook_likes imdb_score  aspect_ratio  \\\n0      2009.0                  936.0        7.9          1.78   \n1      2007.0                 5000.0        7.1          2.35   \n\n  movie_facebook_likes  \n0                33000  \n1                    0  \n\n[2 rows x 28 columns]",
      "text/html": "<div>\n<style scoped>\n    .dataframe tbody tr th:only-of-type {\n        vertical-align: middle;\n    }\n\n    .dataframe tbody tr th {\n        vertical-align: top;\n    }\n\n    .dataframe thead th {\n        text-align: right;\n    }\n</style>\n<table border=\"1\" class=\"dataframe\">\n  <thead>\n    <tr style=\"text-align: right;\">\n      <th></th>\n      <th>color</th>\n      <th>director_name</th>\n      <th>num_critic_for_reviews</th>\n      <th>duration</th>\n      <th>director_facebook_likes</th>\n      <th>actor_3_facebook_likes</th>\n      <th>actor_2_name</th>\n      <th>actor_1_facebook_likes</th>\n      <th>gross</th>\n      <th>genres</th>\n      <th>...</th>\n      <th>num_user_for_reviews</th>\n      <th>language</th>\n      <th>country</th>\n      <th>content_rating</th>\n      <th>budget</th>\n      <th>title_year</th>\n      <th>actor_2_facebook_likes</th>\n      <th>imdb_score</th>\n      <th>aspect_ratio</th>\n      <th>movie_facebook_likes</th>\n    </tr>\n  </thead>\n  <tbody>\n    <tr>\n      <th>0</th>\n      <td>Color</td>\n      <td>James Cameron</td>\n      <td>723.0</td>\n      <td>178.0</td>\n      <td>0.0</td>\n      <td>855.0</td>\n      <td>Joel David Moore</td>\n      <td>1000.0</td>\n      <td>760505847.0</td>\n      <td>Action|Adventure|Fantasy|Sci-Fi</td>\n      <td>...</td>\n      <td>3054.0</td>\n      <td>English</td>\n      <td>USA</td>\n      <td>PG-13</td>\n      <td>237000000.0</td>\n      <td>2009.0</td>\n      <td>936.0</td>\n      <td>7.9</td>\n      <td>1.78</td>\n      <td>33000</td>\n    </tr>\n    <tr>\n      <th>1</th>\n      <td>Color</td>\n      <td>Gore Verbinski</td>\n      <td>302.0</td>\n      <td>169.0</td>\n      <td>563.0</td>\n      <td>1000.0</td>\n      <td>Orlando Bloom</td>\n      <td>40000.0</td>\n      <td>309404152.0</td>\n      <td>Action|Adventure|Fantasy</td>\n      <td>...</td>\n      <td>1238.0</td>\n      <td>English</td>\n      <td>USA</td>\n      <td>PG-13</td>\n      <td>300000000.0</td>\n      <td>2007.0</td>\n      <td>5000.0</td>\n      <td>7.1</td>\n      <td>2.35</td>\n      <td>0</td>\n    </tr>\n  </tbody>\n</table>\n<p>2 rows × 28 columns</p>\n</div>"
     },
     "metadata": {},
     "execution_count": 17
    }
   ]
  },
  {
   "source": [
    "## 데이터 형식 이해하기\n"
   ],
   "cell_type": "markdown",
   "metadata": {}
  },
  {
   "cell_type": "code",
   "execution_count": 18,
   "metadata": {
    "tags": []
   },
   "outputs": [
    {
     "output_type": "stream",
     "name": "stdout",
     "text": "color                         object\ndirector_name                 object\nnum_critic_for_reviews       float64\nduration                     float64\ndirector_facebook_likes      float64\nactor_3_facebook_likes       float64\nactor_2_name                  object\nactor_1_facebook_likes       float64\ngross                        float64\ngenres                        object\nactor_1_name                  object\nmovie_title                   object\nnum_voted_users                int64\ncast_total_facebook_likes      int64\nactor_3_name                  object\nfacenumber_in_poster         float64\nplot_keywords                 object\nmovie_imdb_link               object\nnum_user_for_reviews         float64\nlanguage                      object\ncountry                       object\ncontent_rating                object\nbudget                       float64\ntitle_year                   float64\nactor_2_facebook_likes       float64\nimdb_score                   float64\naspect_ratio                 float64\nmovie_facebook_likes           int64\ndtype: object\n"
    }
   ],
   "source": [
    "print(movie.dtypes)"
   ]
  },
  {
   "source": [
    "- 열 마다 데이터 타입이 다를 순 있지만, 열 내에선 데이터 타입이 모두 동일."
   ],
   "cell_type": "markdown",
   "metadata": {}
  },
  {
   "source": [
    "## 데이터 단일 열을 Series로 선택하기\n",
    "\n",
    "- Series\n",
    "    - 열 하나\n"
   ],
   "cell_type": "markdown",
   "metadata": {}
  },
  {
   "cell_type": "code",
   "execution_count": 19,
   "metadata": {
    "tags": []
   },
   "outputs": [
    {
     "output_type": "stream",
     "name": "stdout",
     "text": "0           James Cameron\n1          Gore Verbinski\n2              Sam Mendes\n3       Christopher Nolan\n4             Doug Walker\n              ...        \n4911          Scott Smith\n4912                  NaN\n4913     Benjamin Roberds\n4914          Daniel Hsia\n4915             Jon Gunn\nName: director_name, Length: 4916, dtype: object\n\n<class 'pandas.core.series.Series'>\n\nactor_1_facebook_likes\n\n"
    },
    {
     "output_type": "execute_result",
     "data": {
      "text/plain": "      actor_1_facebook_likes\n0                     1000.0\n1                    40000.0\n2                    11000.0\n3                    27000.0\n4                      131.0\n...                      ...\n4911                   637.0\n4912                   841.0\n4913                     0.0\n4914                   946.0\n4915                    86.0\n\n[4916 rows x 1 columns]",
      "text/html": "<div>\n<style scoped>\n    .dataframe tbody tr th:only-of-type {\n        vertical-align: middle;\n    }\n\n    .dataframe tbody tr th {\n        vertical-align: top;\n    }\n\n    .dataframe thead th {\n        text-align: right;\n    }\n</style>\n<table border=\"1\" class=\"dataframe\">\n  <thead>\n    <tr style=\"text-align: right;\">\n      <th></th>\n      <th>actor_1_facebook_likes</th>\n    </tr>\n  </thead>\n  <tbody>\n    <tr>\n      <th>0</th>\n      <td>1000.0</td>\n    </tr>\n    <tr>\n      <th>1</th>\n      <td>40000.0</td>\n    </tr>\n    <tr>\n      <th>2</th>\n      <td>11000.0</td>\n    </tr>\n    <tr>\n      <th>3</th>\n      <td>27000.0</td>\n    </tr>\n    <tr>\n      <th>4</th>\n      <td>131.0</td>\n    </tr>\n    <tr>\n      <th>...</th>\n      <td>...</td>\n    </tr>\n    <tr>\n      <th>4911</th>\n      <td>637.0</td>\n    </tr>\n    <tr>\n      <th>4912</th>\n      <td>841.0</td>\n    </tr>\n    <tr>\n      <th>4913</th>\n      <td>0.0</td>\n    </tr>\n    <tr>\n      <th>4914</th>\n      <td>946.0</td>\n    </tr>\n    <tr>\n      <th>4915</th>\n      <td>86.0</td>\n    </tr>\n  </tbody>\n</table>\n<p>4916 rows × 1 columns</p>\n</div>"
     },
     "metadata": {},
     "execution_count": 19
    }
   ],
   "source": [
    "print(movie[\"director_name\"])\n",
    "print()\n",
    "\n",
    "print(type(movie.director_name))\n",
    "print()\n",
    "\n",
    "print(movie.actor_1_facebook_likes.name)\n",
    "print()\n",
    "\n",
    "movie.actor_1_facebook_likes.to_frame()"
   ]
  },
  {
   "source": [
    "## Series 메서드 호출\n",
    "\n"
   ],
   "cell_type": "markdown",
   "metadata": {}
  },
  {
   "cell_type": "code",
   "execution_count": 20,
   "metadata": {
    "tags": []
   },
   "outputs": [
    {
     "output_type": "stream",
     "name": "stdout",
     "text": "0           0.0\n1         563.0\n2           0.0\n3       22000.0\n4         131.0\n         ...   \n4911        2.0\n4912        NaN\n4913        0.0\n4914        0.0\n4915       16.0\nName: director_facebook_likes, Length: 4916, dtype: float64\n0.0      877\n3.0       69\n6.0       66\n2.0       63\n7.0       63\n        ... \n534.0      1\n236.0      1\n710.0      1\n172.0      1\n220.0      1\nName: director_facebook_likes, Length: 435, dtype: int64\n<class 'pandas.core.series.Series'>\n4916 (4916,)\n4814\n"
    }
   ],
   "source": [
    "directoreLikesSeries = movie.director_facebook_likes\n",
    "directorNameSeires = movie.director_name\n",
    "\n",
    "print(directoreLikesSeries)\n",
    "\n",
    "print(directoreLikesSeries.value_counts())\n",
    "\n",
    "print(type(directoreLikesSeries.value_counts()))\n",
    "\n",
    "print(directoreLikesSeries.size, directoreLikesSeries.shape)\n",
    "\n",
    "print(directoreLikesSeries.count()) # 누락되지 않은 값의 개수\n",
    "\n"
   ]
  },
  {
   "cell_type": "code",
   "execution_count": 21,
   "metadata": {
    "tags": []
   },
   "outputs": [
    {
     "output_type": "stream",
     "name": "stdout",
     "text": "count     4814.000000\nmean       691.014541\nstd       2832.954125\nmin          0.000000\n25%          7.000000\n50%         48.000000\n75%        189.750000\nmax      23000.000000\nName: director_facebook_likes, dtype: float64\ncount                 4814\nunique                2397\ntop       Steven Spielberg\nfreq                    26\nName: director_name, dtype: object\n"
    }
   ],
   "source": [
    "print(directoreLikesSeries.describe())\n",
    "\n",
    "print(directorNameSeires.describe()) # describe() 는 data type 에 따라 다르게 출력 된다.\n"
   ]
  },
  {
   "cell_type": "code",
   "execution_count": 22,
   "metadata": {
    "tags": []
   },
   "outputs": [
    {
     "output_type": "stream",
     "name": "stdout",
     "text": "0.500000       48.000\n0.990000    16000.000\n0.999000    22000.000\n0.999999    22995.187\nName: director_facebook_likes, dtype: float64\n"
    }
   ],
   "source": [
    "print(directoreLikesSeries.quantile([.5,.99, .999, .999999]))"
   ]
  },
  {
   "cell_type": "code",
   "execution_count": 23,
   "metadata": {
    "tags": []
   },
   "outputs": [
    {
     "output_type": "stream",
     "name": "stdout",
     "text": "0       False\n1       False\n2       False\n3       False\n4       False\n        ...  \n4911    False\n4912     True\n4913    False\n4914    False\n4915    False\nName: director_facebook_likes, Length: 4916, dtype: bool\n4814 4916 4814 4814\n"
    }
   ],
   "source": [
    "print(directoreLikesSeries.isnull())\n",
    "\n",
    "print(directoreLikesSeries.count(), directoreLikesSeries.fillna(1).count(), directoreLikesSeries.dropna().size, directoreLikesSeries.dropna().count())\n"
   ]
  },
  {
   "cell_type": "code",
   "execution_count": 24,
   "metadata": {
    "tags": []
   },
   "outputs": [
    {
     "output_type": "stream",
     "name": "stdout",
     "text": "Steven Spielberg        26\nWoody Allen             22\nClint Eastwood          20\nMartin Scorsese         20\nSpike Lee               16\n                        ..\nLance Mungia             1\nSteven E. de Souza       1\nJoseph Gordon-Levitt     1\nUlu Grosbard             1\nW.D. Hogan               1\nName: director_name, Length: 2397, dtype: int64\nSteven Spielberg        0.005401\nWoody Allen             0.004570\nClint Eastwood          0.004155\nMartin Scorsese         0.004155\nSpike Lee               0.003324\n                          ...   \nLance Mungia            0.000208\nSteven E. de Souza      0.000208\nJoseph Gordon-Levitt    0.000208\nUlu Grosbard            0.000208\nW.D. Hogan              0.000208\nName: director_name, Length: 2397, dtype: float64\n"
    }
   ],
   "source": [
    "print(directorNameSeires.value_counts())\n",
    "print(directorNameSeires.value_counts(normalize=True))"
   ]
  },
  {
   "cell_type": "code",
   "execution_count": 25,
   "metadata": {
    "tags": []
   },
   "outputs": [
    {
     "output_type": "stream",
     "name": "stdout",
     "text": "True\n0        True\n1        True\n2        True\n3        True\n4        True\n        ...  \n4911     True\n4912    False\n4913     True\n4914     True\n4915     True\nName: director_facebook_likes, Length: 4916, dtype: bool\n0        True\n1        True\n2        True\n3        True\n4        True\n        ...  \n4911     True\n4912    False\n4913     True\n4914     True\n4915     True\nName: director_facebook_likes, Length: 4916, dtype: bool\n"
    }
   ],
   "source": [
    "print(directoreLikesSeries.hasnans)\n",
    "\n",
    "print(directoreLikesSeries.notnull()) # isnull() 반대\n",
    "\n",
    "print(directoreLikesSeries.notna())"
   ]
  },
  {
   "source": [
    "## Series에 연산자 사용하기\n",
    "\n",
    "- 각 데이터에 적용 된다."
   ],
   "cell_type": "markdown",
   "metadata": {}
  },
  {
   "cell_type": "code",
   "execution_count": 26,
   "metadata": {
    "tags": []
   },
   "outputs": [
    {
     "output_type": "stream",
     "name": "stdout",
     "text": "0       7.9\n1       7.1\n2       6.8\n3       8.5\n4       7.1\n       ... \n4911    7.7\n4912    7.5\n4913    6.3\n4914    6.3\n4915    6.6\nName: imdb_score, Length: 4916, dtype: float64\n0       15.8\n1       14.2\n2       13.6\n3       17.0\n4       14.2\n        ... \n4911    15.4\n4912    15.0\n4913    12.6\n4914    12.6\n4915    13.2\nName: imdb_score, Length: 4916, dtype: float64\n0       3.95\n1       3.55\n2       3.40\n3       4.25\n4       3.55\n        ... \n4911    3.85\n4912    3.75\n4913    3.15\n4914    3.15\n4915    3.30\nName: imdb_score, Length: 4916, dtype: float64\n0       3.0\n1       3.0\n2       3.0\n3       4.0\n4       3.0\n       ... \n4911    3.0\n4912    3.0\n4913    3.0\n4914    3.0\n4915    3.0\nName: imdb_score, Length: 4916, dtype: float64\n0       1.9\n1       1.1\n2       0.8\n3       0.5\n4       1.1\n       ... \n4911    1.7\n4912    1.5\n4913    0.3\n4914    0.3\n4915    0.6\nName: imdb_score, Length: 4916, dtype: float64\n"
    }
   ],
   "source": [
    "imdb_scoreSeries = movie.imdb_score\n",
    "\n",
    "print(imdb_scoreSeries)\n",
    "print(imdb_scoreSeries*2)\n",
    "print(imdb_scoreSeries/2)\n",
    "print(imdb_scoreSeries//2)\n",
    "print(imdb_scoreSeries%2)\n"
   ]
  },
  {
   "cell_type": "code",
   "execution_count": 27,
   "metadata": {
    "tags": []
   },
   "outputs": [
    {
     "output_type": "stream",
     "name": "stdout",
     "text": "0        True\n1        True\n2       False\n3        True\n4        True\n        ...  \n4911     True\n4912     True\n4913    False\n4914    False\n4915    False\nName: imdb_score, Length: 4916, dtype: bool\n0        True\n1       False\n2       False\n3       False\n4       False\n        ...  \n4911    False\n4912    False\n4913    False\n4914    False\n4915    False\nName: imdb_score, Length: 4916, dtype: bool\n"
    }
   ],
   "source": [
    "print(imdb_scoreSeries > 7)\n",
    "print(imdb_scoreSeries == 7.9)"
   ]
  },
  {
   "source": [
    "## Series 메서드를 함께 사용하기\n",
    "\n",
    "- 위 연산자에 대한 메서드가 존재한다.\n",
    "- method chaining 가능\n"
   ],
   "cell_type": "markdown",
   "metadata": {}
  },
  {
   "cell_type": "code",
   "execution_count": 28,
   "metadata": {
    "tags": []
   },
   "outputs": [
    {
     "output_type": "stream",
     "name": "stdout",
     "text": "0           0.0\n1         563.0\n2           0.0\n3       22000.0\n4         131.0\n         ...   \n4911        2.0\n4912        NaN\n4913        0.0\n4914        0.0\n4915       16.0\nName: director_facebook_likes, Length: 4916, dtype: float64\n102\n0           0\n1         563\n2           0\n3       22000\n4         131\n        ...  \n4911        2\n4912        0\n4913        0\n4914        0\n4915       16\nName: director_facebook_likes, Length: 4916, dtype: int64\n"
    }
   ],
   "source": [
    "print(directoreLikesSeries)\n",
    "\n",
    "print(directoreLikesSeries.isnull().sum())\n",
    "\n",
    "print(directoreLikesSeries.fillna(0).astype(int)) # 0으로 안채우고 하려면 NaN 때문에 astype 오류 남"
   ]
  },
  {
   "source": [
    "## 인덱스를 의미 있게 만들기\n",
    "\n",
    "- 기본 인덱스 RangeIndex 를 특정 열로 바꾸기 가능\n"
   ],
   "cell_type": "markdown",
   "metadata": {}
  },
  {
   "cell_type": "code",
   "execution_count": 29,
   "metadata": {
    "tags": []
   },
   "outputs": [
    {
     "output_type": "execute_result",
     "data": {
      "text/plain": "                                          color   director_name  \\\nmovie_title                                                       \nAvatar                                    Color   James Cameron   \nPirates of the Caribbean: At World's End  Color  Gore Verbinski   \nSpectre                                   Color      Sam Mendes   \n\n                                          num_critic_for_reviews  duration  \\\nmovie_title                                                                  \nAvatar                                                     723.0     178.0   \nPirates of the Caribbean: At World's End                   302.0     169.0   \nSpectre                                                    602.0     148.0   \n\n                                          director_facebook_likes  \\\nmovie_title                                                         \nAvatar                                                        0.0   \nPirates of the Caribbean: At World's End                    563.0   \nSpectre                                                       0.0   \n\n                                          actor_3_facebook_likes  \\\nmovie_title                                                        \nAvatar                                                     855.0   \nPirates of the Caribbean: At World's End                  1000.0   \nSpectre                                                    161.0   \n\n                                              actor_2_name  \\\nmovie_title                                                  \nAvatar                                    Joel David Moore   \nPirates of the Caribbean: At World's End     Orlando Bloom   \nSpectre                                       Rory Kinnear   \n\n                                          actor_1_facebook_likes        gross  \\\nmovie_title                                                                     \nAvatar                                                    1000.0  760505847.0   \nPirates of the Caribbean: At World's End                 40000.0  309404152.0   \nSpectre                                                  11000.0  200074175.0   \n\n                                                                   genres  \\\nmovie_title                                                                 \nAvatar                                    Action|Adventure|Fantasy|Sci-Fi   \nPirates of the Caribbean: At World's End         Action|Adventure|Fantasy   \nSpectre                                         Action|Adventure|Thriller   \n\n                                          ... num_user_for_reviews  language  \\\nmovie_title                               ...                                  \nAvatar                                    ...               3054.0   English   \nPirates of the Caribbean: At World's End  ...               1238.0   English   \nSpectre                                   ...                994.0   English   \n\n                                          country content_rating       budget  \\\nmovie_title                                                                     \nAvatar                                        USA          PG-13  237000000.0   \nPirates of the Caribbean: At World's End      USA          PG-13  300000000.0   \nSpectre                                        UK          PG-13  245000000.0   \n\n                                         title_year actor_2_facebook_likes  \\\nmovie_title                                                                  \nAvatar                                       2009.0                  936.0   \nPirates of the Caribbean: At World's End     2007.0                 5000.0   \nSpectre                                      2015.0                  393.0   \n\n                                          imdb_score aspect_ratio  \\\nmovie_title                                                         \nAvatar                                           7.9         1.78   \nPirates of the Caribbean: At World's End         7.1         2.35   \nSpectre                                          6.8         2.35   \n\n                                         movie_facebook_likes  \nmovie_title                                                    \nAvatar                                                  33000  \nPirates of the Caribbean: At World's End                    0  \nSpectre                                                 85000  \n\n[3 rows x 27 columns]",
      "text/html": "<div>\n<style scoped>\n    .dataframe tbody tr th:only-of-type {\n        vertical-align: middle;\n    }\n\n    .dataframe tbody tr th {\n        vertical-align: top;\n    }\n\n    .dataframe thead th {\n        text-align: right;\n    }\n</style>\n<table border=\"1\" class=\"dataframe\">\n  <thead>\n    <tr style=\"text-align: right;\">\n      <th></th>\n      <th>color</th>\n      <th>director_name</th>\n      <th>num_critic_for_reviews</th>\n      <th>duration</th>\n      <th>director_facebook_likes</th>\n      <th>actor_3_facebook_likes</th>\n      <th>actor_2_name</th>\n      <th>actor_1_facebook_likes</th>\n      <th>gross</th>\n      <th>genres</th>\n      <th>...</th>\n      <th>num_user_for_reviews</th>\n      <th>language</th>\n      <th>country</th>\n      <th>content_rating</th>\n      <th>budget</th>\n      <th>title_year</th>\n      <th>actor_2_facebook_likes</th>\n      <th>imdb_score</th>\n      <th>aspect_ratio</th>\n      <th>movie_facebook_likes</th>\n    </tr>\n    <tr>\n      <th>movie_title</th>\n      <th></th>\n      <th></th>\n      <th></th>\n      <th></th>\n      <th></th>\n      <th></th>\n      <th></th>\n      <th></th>\n      <th></th>\n      <th></th>\n      <th></th>\n      <th></th>\n      <th></th>\n      <th></th>\n      <th></th>\n      <th></th>\n      <th></th>\n      <th></th>\n      <th></th>\n      <th></th>\n      <th></th>\n    </tr>\n  </thead>\n  <tbody>\n    <tr>\n      <th>Avatar</th>\n      <td>Color</td>\n      <td>James Cameron</td>\n      <td>723.0</td>\n      <td>178.0</td>\n      <td>0.0</td>\n      <td>855.0</td>\n      <td>Joel David Moore</td>\n      <td>1000.0</td>\n      <td>760505847.0</td>\n      <td>Action|Adventure|Fantasy|Sci-Fi</td>\n      <td>...</td>\n      <td>3054.0</td>\n      <td>English</td>\n      <td>USA</td>\n      <td>PG-13</td>\n      <td>237000000.0</td>\n      <td>2009.0</td>\n      <td>936.0</td>\n      <td>7.9</td>\n      <td>1.78</td>\n      <td>33000</td>\n    </tr>\n    <tr>\n      <th>Pirates of the Caribbean: At World's End</th>\n      <td>Color</td>\n      <td>Gore Verbinski</td>\n      <td>302.0</td>\n      <td>169.0</td>\n      <td>563.0</td>\n      <td>1000.0</td>\n      <td>Orlando Bloom</td>\n      <td>40000.0</td>\n      <td>309404152.0</td>\n      <td>Action|Adventure|Fantasy</td>\n      <td>...</td>\n      <td>1238.0</td>\n      <td>English</td>\n      <td>USA</td>\n      <td>PG-13</td>\n      <td>300000000.0</td>\n      <td>2007.0</td>\n      <td>5000.0</td>\n      <td>7.1</td>\n      <td>2.35</td>\n      <td>0</td>\n    </tr>\n    <tr>\n      <th>Spectre</th>\n      <td>Color</td>\n      <td>Sam Mendes</td>\n      <td>602.0</td>\n      <td>148.0</td>\n      <td>0.0</td>\n      <td>161.0</td>\n      <td>Rory Kinnear</td>\n      <td>11000.0</td>\n      <td>200074175.0</td>\n      <td>Action|Adventure|Thriller</td>\n      <td>...</td>\n      <td>994.0</td>\n      <td>English</td>\n      <td>UK</td>\n      <td>PG-13</td>\n      <td>245000000.0</td>\n      <td>2015.0</td>\n      <td>393.0</td>\n      <td>6.8</td>\n      <td>2.35</td>\n      <td>85000</td>\n    </tr>\n  </tbody>\n</table>\n<p>3 rows × 27 columns</p>\n</div>"
     },
     "metadata": {},
     "execution_count": 29
    }
   ],
   "source": [
    "movie.set_index(\"movie_title\").head(3)\n"
   ]
  },
  {
   "cell_type": "code",
   "execution_count": 30,
   "metadata": {},
   "outputs": [
    {
     "output_type": "execute_result",
     "data": {
      "text/plain": "                                          color   director_name  \\\nmovie_title                                                       \nAvatar                                    Color   James Cameron   \nPirates of the Caribbean: At World's End  Color  Gore Verbinski   \nSpectre                                   Color      Sam Mendes   \n\n                                          num_critic_for_reviews  duration  \\\nmovie_title                                                                  \nAvatar                                                     723.0     178.0   \nPirates of the Caribbean: At World's End                   302.0     169.0   \nSpectre                                                    602.0     148.0   \n\n                                          director_facebook_likes  \\\nmovie_title                                                         \nAvatar                                                        0.0   \nPirates of the Caribbean: At World's End                    563.0   \nSpectre                                                       0.0   \n\n                                          actor_3_facebook_likes  \\\nmovie_title                                                        \nAvatar                                                     855.0   \nPirates of the Caribbean: At World's End                  1000.0   \nSpectre                                                    161.0   \n\n                                              actor_2_name  \\\nmovie_title                                                  \nAvatar                                    Joel David Moore   \nPirates of the Caribbean: At World's End     Orlando Bloom   \nSpectre                                       Rory Kinnear   \n\n                                          actor_1_facebook_likes        gross  \\\nmovie_title                                                                     \nAvatar                                                    1000.0  760505847.0   \nPirates of the Caribbean: At World's End                 40000.0  309404152.0   \nSpectre                                                  11000.0  200074175.0   \n\n                                                                   genres  \\\nmovie_title                                                                 \nAvatar                                    Action|Adventure|Fantasy|Sci-Fi   \nPirates of the Caribbean: At World's End         Action|Adventure|Fantasy   \nSpectre                                         Action|Adventure|Thriller   \n\n                                          ... num_user_for_reviews  language  \\\nmovie_title                               ...                                  \nAvatar                                    ...               3054.0   English   \nPirates of the Caribbean: At World's End  ...               1238.0   English   \nSpectre                                   ...                994.0   English   \n\n                                          country content_rating       budget  \\\nmovie_title                                                                     \nAvatar                                        USA          PG-13  237000000.0   \nPirates of the Caribbean: At World's End      USA          PG-13  300000000.0   \nSpectre                                        UK          PG-13  245000000.0   \n\n                                         title_year actor_2_facebook_likes  \\\nmovie_title                                                                  \nAvatar                                       2009.0                  936.0   \nPirates of the Caribbean: At World's End     2007.0                 5000.0   \nSpectre                                      2015.0                  393.0   \n\n                                          imdb_score aspect_ratio  \\\nmovie_title                                                         \nAvatar                                           7.9         1.78   \nPirates of the Caribbean: At World's End         7.1         2.35   \nSpectre                                          6.8         2.35   \n\n                                         movie_facebook_likes  \nmovie_title                                                    \nAvatar                                                  33000  \nPirates of the Caribbean: At World's End                    0  \nSpectre                                                 85000  \n\n[3 rows x 27 columns]",
      "text/html": "<div>\n<style scoped>\n    .dataframe tbody tr th:only-of-type {\n        vertical-align: middle;\n    }\n\n    .dataframe tbody tr th {\n        vertical-align: top;\n    }\n\n    .dataframe thead th {\n        text-align: right;\n    }\n</style>\n<table border=\"1\" class=\"dataframe\">\n  <thead>\n    <tr style=\"text-align: right;\">\n      <th></th>\n      <th>color</th>\n      <th>director_name</th>\n      <th>num_critic_for_reviews</th>\n      <th>duration</th>\n      <th>director_facebook_likes</th>\n      <th>actor_3_facebook_likes</th>\n      <th>actor_2_name</th>\n      <th>actor_1_facebook_likes</th>\n      <th>gross</th>\n      <th>genres</th>\n      <th>...</th>\n      <th>num_user_for_reviews</th>\n      <th>language</th>\n      <th>country</th>\n      <th>content_rating</th>\n      <th>budget</th>\n      <th>title_year</th>\n      <th>actor_2_facebook_likes</th>\n      <th>imdb_score</th>\n      <th>aspect_ratio</th>\n      <th>movie_facebook_likes</th>\n    </tr>\n    <tr>\n      <th>movie_title</th>\n      <th></th>\n      <th></th>\n      <th></th>\n      <th></th>\n      <th></th>\n      <th></th>\n      <th></th>\n      <th></th>\n      <th></th>\n      <th></th>\n      <th></th>\n      <th></th>\n      <th></th>\n      <th></th>\n      <th></th>\n      <th></th>\n      <th></th>\n      <th></th>\n      <th></th>\n      <th></th>\n      <th></th>\n    </tr>\n  </thead>\n  <tbody>\n    <tr>\n      <th>Avatar</th>\n      <td>Color</td>\n      <td>James Cameron</td>\n      <td>723.0</td>\n      <td>178.0</td>\n      <td>0.0</td>\n      <td>855.0</td>\n      <td>Joel David Moore</td>\n      <td>1000.0</td>\n      <td>760505847.0</td>\n      <td>Action|Adventure|Fantasy|Sci-Fi</td>\n      <td>...</td>\n      <td>3054.0</td>\n      <td>English</td>\n      <td>USA</td>\n      <td>PG-13</td>\n      <td>237000000.0</td>\n      <td>2009.0</td>\n      <td>936.0</td>\n      <td>7.9</td>\n      <td>1.78</td>\n      <td>33000</td>\n    </tr>\n    <tr>\n      <th>Pirates of the Caribbean: At World's End</th>\n      <td>Color</td>\n      <td>Gore Verbinski</td>\n      <td>302.0</td>\n      <td>169.0</td>\n      <td>563.0</td>\n      <td>1000.0</td>\n      <td>Orlando Bloom</td>\n      <td>40000.0</td>\n      <td>309404152.0</td>\n      <td>Action|Adventure|Fantasy</td>\n      <td>...</td>\n      <td>1238.0</td>\n      <td>English</td>\n      <td>USA</td>\n      <td>PG-13</td>\n      <td>300000000.0</td>\n      <td>2007.0</td>\n      <td>5000.0</td>\n      <td>7.1</td>\n      <td>2.35</td>\n      <td>0</td>\n    </tr>\n    <tr>\n      <th>Spectre</th>\n      <td>Color</td>\n      <td>Sam Mendes</td>\n      <td>602.0</td>\n      <td>148.0</td>\n      <td>0.0</td>\n      <td>161.0</td>\n      <td>Rory Kinnear</td>\n      <td>11000.0</td>\n      <td>200074175.0</td>\n      <td>Action|Adventure|Thriller</td>\n      <td>...</td>\n      <td>994.0</td>\n      <td>English</td>\n      <td>UK</td>\n      <td>PG-13</td>\n      <td>245000000.0</td>\n      <td>2015.0</td>\n      <td>393.0</td>\n      <td>6.8</td>\n      <td>2.35</td>\n      <td>85000</td>\n    </tr>\n  </tbody>\n</table>\n<p>3 rows × 27 columns</p>\n</div>"
     },
     "metadata": {},
     "execution_count": 30
    }
   ],
   "source": [
    "pd.read_csv(\"../data/movie.csv\", index_col = \"movie_title\").head(3) # 위랑 같음"
   ]
  },
  {
   "cell_type": "code",
   "execution_count": 31,
   "metadata": {},
   "outputs": [
    {
     "output_type": "execute_result",
     "data": {
      "text/plain": "                                movie_title  color   director_name  \\\n0                                    Avatar  Color   James Cameron   \n1  Pirates of the Caribbean: At World's End  Color  Gore Verbinski   \n2                                   Spectre  Color      Sam Mendes   \n\n   num_critic_for_reviews  duration  director_facebook_likes  \\\n0                   723.0     178.0                      0.0   \n1                   302.0     169.0                    563.0   \n2                   602.0     148.0                      0.0   \n\n   actor_3_facebook_likes      actor_2_name  actor_1_facebook_likes  \\\n0                   855.0  Joel David Moore                  1000.0   \n1                  1000.0     Orlando Bloom                 40000.0   \n2                   161.0      Rory Kinnear                 11000.0   \n\n         gross  ... num_user_for_reviews language  country  content_rating  \\\n0  760505847.0  ...               3054.0  English      USA           PG-13   \n1  309404152.0  ...               1238.0  English      USA           PG-13   \n2  200074175.0  ...                994.0  English       UK           PG-13   \n\n        budget  title_year actor_2_facebook_likes imdb_score  aspect_ratio  \\\n0  237000000.0      2009.0                  936.0        7.9          1.78   \n1  300000000.0      2007.0                 5000.0        7.1          2.35   \n2  245000000.0      2015.0                  393.0        6.8          2.35   \n\n  movie_facebook_likes  \n0                33000  \n1                    0  \n2                85000  \n\n[3 rows x 28 columns]",
      "text/html": "<div>\n<style scoped>\n    .dataframe tbody tr th:only-of-type {\n        vertical-align: middle;\n    }\n\n    .dataframe tbody tr th {\n        vertical-align: top;\n    }\n\n    .dataframe thead th {\n        text-align: right;\n    }\n</style>\n<table border=\"1\" class=\"dataframe\">\n  <thead>\n    <tr style=\"text-align: right;\">\n      <th></th>\n      <th>movie_title</th>\n      <th>color</th>\n      <th>director_name</th>\n      <th>num_critic_for_reviews</th>\n      <th>duration</th>\n      <th>director_facebook_likes</th>\n      <th>actor_3_facebook_likes</th>\n      <th>actor_2_name</th>\n      <th>actor_1_facebook_likes</th>\n      <th>gross</th>\n      <th>...</th>\n      <th>num_user_for_reviews</th>\n      <th>language</th>\n      <th>country</th>\n      <th>content_rating</th>\n      <th>budget</th>\n      <th>title_year</th>\n      <th>actor_2_facebook_likes</th>\n      <th>imdb_score</th>\n      <th>aspect_ratio</th>\n      <th>movie_facebook_likes</th>\n    </tr>\n  </thead>\n  <tbody>\n    <tr>\n      <th>0</th>\n      <td>Avatar</td>\n      <td>Color</td>\n      <td>James Cameron</td>\n      <td>723.0</td>\n      <td>178.0</td>\n      <td>0.0</td>\n      <td>855.0</td>\n      <td>Joel David Moore</td>\n      <td>1000.0</td>\n      <td>760505847.0</td>\n      <td>...</td>\n      <td>3054.0</td>\n      <td>English</td>\n      <td>USA</td>\n      <td>PG-13</td>\n      <td>237000000.0</td>\n      <td>2009.0</td>\n      <td>936.0</td>\n      <td>7.9</td>\n      <td>1.78</td>\n      <td>33000</td>\n    </tr>\n    <tr>\n      <th>1</th>\n      <td>Pirates of the Caribbean: At World's End</td>\n      <td>Color</td>\n      <td>Gore Verbinski</td>\n      <td>302.0</td>\n      <td>169.0</td>\n      <td>563.0</td>\n      <td>1000.0</td>\n      <td>Orlando Bloom</td>\n      <td>40000.0</td>\n      <td>309404152.0</td>\n      <td>...</td>\n      <td>1238.0</td>\n      <td>English</td>\n      <td>USA</td>\n      <td>PG-13</td>\n      <td>300000000.0</td>\n      <td>2007.0</td>\n      <td>5000.0</td>\n      <td>7.1</td>\n      <td>2.35</td>\n      <td>0</td>\n    </tr>\n    <tr>\n      <th>2</th>\n      <td>Spectre</td>\n      <td>Color</td>\n      <td>Sam Mendes</td>\n      <td>602.0</td>\n      <td>148.0</td>\n      <td>0.0</td>\n      <td>161.0</td>\n      <td>Rory Kinnear</td>\n      <td>11000.0</td>\n      <td>200074175.0</td>\n      <td>...</td>\n      <td>994.0</td>\n      <td>English</td>\n      <td>UK</td>\n      <td>PG-13</td>\n      <td>245000000.0</td>\n      <td>2015.0</td>\n      <td>393.0</td>\n      <td>6.8</td>\n      <td>2.35</td>\n      <td>85000</td>\n    </tr>\n  </tbody>\n</table>\n<p>3 rows × 28 columns</p>\n</div>"
     },
     "metadata": {},
     "execution_count": 31
    }
   ],
   "source": [
    "movie.set_index(\"movie_title\").reset_index().head(3) # 다시 RangeIndex 로 복원 가능"
   ]
  },
  {
   "source": [
    "## 열과 행 이름 다시 짓기\n",
    "\n"
   ],
   "cell_type": "markdown",
   "metadata": {}
  },
  {
   "cell_type": "code",
   "execution_count": 32,
   "metadata": {},
   "outputs": [
    {
     "output_type": "execute_result",
     "data": {
      "text/plain": "                color  num_critic_for_reviews  changed_colum_name  \\\ndirector_name                                                       \nchange          Color                   723.0               178.0   \nGore Verbinski  Color                   302.0               169.0   \nSam Mendes      Color                   602.0               148.0   \n\n                director_facebook_likes  actor_3_facebook_likes  \\\ndirector_name                                                     \nchange                              0.0                   855.0   \nGore Verbinski                    563.0                  1000.0   \nSam Mendes                          0.0                   161.0   \n\n                    actor_2_name  actor_1_facebook_likes        gross  \\\ndirector_name                                                           \nchange          Joel David Moore                  1000.0  760505847.0   \nGore Verbinski     Orlando Bloom                 40000.0  309404152.0   \nSam Mendes          Rory Kinnear                 11000.0  200074175.0   \n\n                                         genres     actor_1_name  ...  \\\ndirector_name                                                     ...   \nchange          Action|Adventure|Fantasy|Sci-Fi      CCH Pounder  ...   \nGore Verbinski         Action|Adventure|Fantasy      Johnny Depp  ...   \nSam Mendes            Action|Adventure|Thriller  Christoph Waltz  ...   \n\n               num_user_for_reviews  language  country content_rating  \\\ndirector_name                                                           \nchange                       3054.0   English      USA          PG-13   \nGore Verbinski               1238.0   English      USA          PG-13   \nSam Mendes                    994.0   English       UK          PG-13   \n\n                     budget title_year actor_2_facebook_likes  imdb_score  \\\ndirector_name                                                               \nchange          237000000.0     2009.0                  936.0         7.9   \nGore Verbinski  300000000.0     2007.0                 5000.0         7.1   \nSam Mendes      245000000.0     2015.0                  393.0         6.8   \n\n               aspect_ratio movie_facebook_likes  \ndirector_name                                     \nchange                 1.78                33000  \nGore Verbinski         2.35                    0  \nSam Mendes             2.35                85000  \n\n[3 rows x 27 columns]",
      "text/html": "<div>\n<style scoped>\n    .dataframe tbody tr th:only-of-type {\n        vertical-align: middle;\n    }\n\n    .dataframe tbody tr th {\n        vertical-align: top;\n    }\n\n    .dataframe thead th {\n        text-align: right;\n    }\n</style>\n<table border=\"1\" class=\"dataframe\">\n  <thead>\n    <tr style=\"text-align: right;\">\n      <th></th>\n      <th>color</th>\n      <th>num_critic_for_reviews</th>\n      <th>changed_colum_name</th>\n      <th>director_facebook_likes</th>\n      <th>actor_3_facebook_likes</th>\n      <th>actor_2_name</th>\n      <th>actor_1_facebook_likes</th>\n      <th>gross</th>\n      <th>genres</th>\n      <th>actor_1_name</th>\n      <th>...</th>\n      <th>num_user_for_reviews</th>\n      <th>language</th>\n      <th>country</th>\n      <th>content_rating</th>\n      <th>budget</th>\n      <th>title_year</th>\n      <th>actor_2_facebook_likes</th>\n      <th>imdb_score</th>\n      <th>aspect_ratio</th>\n      <th>movie_facebook_likes</th>\n    </tr>\n    <tr>\n      <th>director_name</th>\n      <th></th>\n      <th></th>\n      <th></th>\n      <th></th>\n      <th></th>\n      <th></th>\n      <th></th>\n      <th></th>\n      <th></th>\n      <th></th>\n      <th></th>\n      <th></th>\n      <th></th>\n      <th></th>\n      <th></th>\n      <th></th>\n      <th></th>\n      <th></th>\n      <th></th>\n      <th></th>\n      <th></th>\n    </tr>\n  </thead>\n  <tbody>\n    <tr>\n      <th>change</th>\n      <td>Color</td>\n      <td>723.0</td>\n      <td>178.0</td>\n      <td>0.0</td>\n      <td>855.0</td>\n      <td>Joel David Moore</td>\n      <td>1000.0</td>\n      <td>760505847.0</td>\n      <td>Action|Adventure|Fantasy|Sci-Fi</td>\n      <td>CCH Pounder</td>\n      <td>...</td>\n      <td>3054.0</td>\n      <td>English</td>\n      <td>USA</td>\n      <td>PG-13</td>\n      <td>237000000.0</td>\n      <td>2009.0</td>\n      <td>936.0</td>\n      <td>7.9</td>\n      <td>1.78</td>\n      <td>33000</td>\n    </tr>\n    <tr>\n      <th>Gore Verbinski</th>\n      <td>Color</td>\n      <td>302.0</td>\n      <td>169.0</td>\n      <td>563.0</td>\n      <td>1000.0</td>\n      <td>Orlando Bloom</td>\n      <td>40000.0</td>\n      <td>309404152.0</td>\n      <td>Action|Adventure|Fantasy</td>\n      <td>Johnny Depp</td>\n      <td>...</td>\n      <td>1238.0</td>\n      <td>English</td>\n      <td>USA</td>\n      <td>PG-13</td>\n      <td>300000000.0</td>\n      <td>2007.0</td>\n      <td>5000.0</td>\n      <td>7.1</td>\n      <td>2.35</td>\n      <td>0</td>\n    </tr>\n    <tr>\n      <th>Sam Mendes</th>\n      <td>Color</td>\n      <td>602.0</td>\n      <td>148.0</td>\n      <td>0.0</td>\n      <td>161.0</td>\n      <td>Rory Kinnear</td>\n      <td>11000.0</td>\n      <td>200074175.0</td>\n      <td>Action|Adventure|Thriller</td>\n      <td>Christoph Waltz</td>\n      <td>...</td>\n      <td>994.0</td>\n      <td>English</td>\n      <td>UK</td>\n      <td>PG-13</td>\n      <td>245000000.0</td>\n      <td>2015.0</td>\n      <td>393.0</td>\n      <td>6.8</td>\n      <td>2.35</td>\n      <td>85000</td>\n    </tr>\n  </tbody>\n</table>\n<p>3 rows × 27 columns</p>\n</div>"
     },
     "metadata": {},
     "execution_count": 32
    }
   ],
   "source": [
    "movie.set_index(\"director_name\").rename(index = {\"James Cameron\" : \"change\"}, columns = {\"duration\" : \"changed_colum_name\"}).head(3)"
   ]
  },
  {
   "cell_type": "code",
   "execution_count": 33,
   "metadata": {
    "tags": []
   },
   "outputs": [
    {
     "output_type": "execute_result",
     "data": {
      "text/plain": "           color      director_name  num_critic_for_reviews  duration  \\\n148921741  Color      James Cameron                   723.0     178.0   \n1          Color     Gore Verbinski                   302.0     169.0   \n2          Color         Sam Mendes                   602.0     148.0   \n3          Color  Christopher Nolan                   813.0     164.0   \n4            NaN        Doug Walker                     NaN       NaN   \n...          ...                ...                     ...       ...   \n4911       Color        Scott Smith                     1.0      87.0   \n4912       Color                NaN                    43.0      43.0   \n4913       Color   Benjamin Roberds                    13.0      76.0   \n4914       Color        Daniel Hsia                    14.0     100.0   \n4915       Color           Jon Gunn                    43.0      90.0   \n\n           director_facebook_likes  actor_3_facebook_likes      actor_2_name  \\\n148921741                      0.0                   855.0  Joel David Moore   \n1                            563.0                  1000.0     Orlando Bloom   \n2                              0.0                   161.0      Rory Kinnear   \n3                          22000.0                 23000.0    Christian Bale   \n4                            131.0                     NaN        Rob Walker   \n...                            ...                     ...               ...   \n4911                           2.0                   318.0     Daphne Zuniga   \n4912                           NaN                   319.0     Valorie Curry   \n4913                           0.0                     0.0     Maxwell Moody   \n4914                           0.0                   489.0     Daniel Henney   \n4915                          16.0                    16.0  Brian Herzlinger   \n\n           actor_1_facebook_likes        gross  \\\n148921741                  1000.0  760505847.0   \n1                         40000.0  309404152.0   \n2                         11000.0  200074175.0   \n3                         27000.0  448130642.0   \n4                           131.0          NaN   \n...                           ...          ...   \n4911                        637.0          NaN   \n4912                        841.0          NaN   \n4913                          0.0          NaN   \n4914                        946.0      10443.0   \n4915                         86.0      85222.0   \n\n                                    genres  ... num_user_for_reviews language  \\\n148921741  Action|Adventure|Fantasy|Sci-Fi  ...               3054.0  English   \n1                 Action|Adventure|Fantasy  ...               1238.0  English   \n2                Action|Adventure|Thriller  ...                994.0  English   \n3                          Action|Thriller  ...               2701.0  English   \n4                              Documentary  ...                  NaN      NaN   \n...                                    ...  ...                  ...      ...   \n4911                          Comedy|Drama  ...                  6.0  English   \n4912          Crime|Drama|Mystery|Thriller  ...                359.0  English   \n4913                 Drama|Horror|Thriller  ...                  3.0  English   \n4914                  Comedy|Drama|Romance  ...                  9.0  English   \n4915                           Documentary  ...                 84.0  English   \n\n           country  content_rating       budget  title_year  \\\n148921741      USA           PG-13  237000000.0      2009.0   \n1              USA           PG-13  300000000.0      2007.0   \n2               UK           PG-13  245000000.0      2015.0   \n3              USA           PG-13  250000000.0      2012.0   \n4              NaN             NaN          NaN         NaN   \n...            ...             ...          ...         ...   \n4911        Canada             NaN          NaN      2013.0   \n4912           USA           TV-14          NaN         NaN   \n4913           USA             NaN       1400.0      2013.0   \n4914           USA           PG-13          NaN      2012.0   \n4915           USA              PG       1100.0      2004.0   \n\n          actor_2_facebook_likes imdb_score  aspect_ratio movie_facebook_likes  \n148921741                  936.0        7.9          1.78                33000  \n1                         5000.0        7.1          2.35                    0  \n2                          393.0        6.8          2.35                85000  \n3                        23000.0        8.5          2.35               164000  \n4                           12.0        7.1           NaN                    0  \n...                          ...        ...           ...                  ...  \n4911                       470.0        7.7           NaN                   84  \n4912                       593.0        7.5         16.00                32000  \n4913                         0.0        6.3           NaN                   16  \n4914                       719.0        6.3          2.35                  660  \n4915                        23.0        6.6          1.85                  456  \n\n[4916 rows x 28 columns]",
      "text/html": "<div>\n<style scoped>\n    .dataframe tbody tr th:only-of-type {\n        vertical-align: middle;\n    }\n\n    .dataframe tbody tr th {\n        vertical-align: top;\n    }\n\n    .dataframe thead th {\n        text-align: right;\n    }\n</style>\n<table border=\"1\" class=\"dataframe\">\n  <thead>\n    <tr style=\"text-align: right;\">\n      <th></th>\n      <th>color</th>\n      <th>director_name</th>\n      <th>num_critic_for_reviews</th>\n      <th>duration</th>\n      <th>director_facebook_likes</th>\n      <th>actor_3_facebook_likes</th>\n      <th>actor_2_name</th>\n      <th>actor_1_facebook_likes</th>\n      <th>gross</th>\n      <th>genres</th>\n      <th>...</th>\n      <th>num_user_for_reviews</th>\n      <th>language</th>\n      <th>country</th>\n      <th>content_rating</th>\n      <th>budget</th>\n      <th>title_year</th>\n      <th>actor_2_facebook_likes</th>\n      <th>imdb_score</th>\n      <th>aspect_ratio</th>\n      <th>movie_facebook_likes</th>\n    </tr>\n  </thead>\n  <tbody>\n    <tr>\n      <th>148921741</th>\n      <td>Color</td>\n      <td>James Cameron</td>\n      <td>723.0</td>\n      <td>178.0</td>\n      <td>0.0</td>\n      <td>855.0</td>\n      <td>Joel David Moore</td>\n      <td>1000.0</td>\n      <td>760505847.0</td>\n      <td>Action|Adventure|Fantasy|Sci-Fi</td>\n      <td>...</td>\n      <td>3054.0</td>\n      <td>English</td>\n      <td>USA</td>\n      <td>PG-13</td>\n      <td>237000000.0</td>\n      <td>2009.0</td>\n      <td>936.0</td>\n      <td>7.9</td>\n      <td>1.78</td>\n      <td>33000</td>\n    </tr>\n    <tr>\n      <th>1</th>\n      <td>Color</td>\n      <td>Gore Verbinski</td>\n      <td>302.0</td>\n      <td>169.0</td>\n      <td>563.0</td>\n      <td>1000.0</td>\n      <td>Orlando Bloom</td>\n      <td>40000.0</td>\n      <td>309404152.0</td>\n      <td>Action|Adventure|Fantasy</td>\n      <td>...</td>\n      <td>1238.0</td>\n      <td>English</td>\n      <td>USA</td>\n      <td>PG-13</td>\n      <td>300000000.0</td>\n      <td>2007.0</td>\n      <td>5000.0</td>\n      <td>7.1</td>\n      <td>2.35</td>\n      <td>0</td>\n    </tr>\n    <tr>\n      <th>2</th>\n      <td>Color</td>\n      <td>Sam Mendes</td>\n      <td>602.0</td>\n      <td>148.0</td>\n      <td>0.0</td>\n      <td>161.0</td>\n      <td>Rory Kinnear</td>\n      <td>11000.0</td>\n      <td>200074175.0</td>\n      <td>Action|Adventure|Thriller</td>\n      <td>...</td>\n      <td>994.0</td>\n      <td>English</td>\n      <td>UK</td>\n      <td>PG-13</td>\n      <td>245000000.0</td>\n      <td>2015.0</td>\n      <td>393.0</td>\n      <td>6.8</td>\n      <td>2.35</td>\n      <td>85000</td>\n    </tr>\n    <tr>\n      <th>3</th>\n      <td>Color</td>\n      <td>Christopher Nolan</td>\n      <td>813.0</td>\n      <td>164.0</td>\n      <td>22000.0</td>\n      <td>23000.0</td>\n      <td>Christian Bale</td>\n      <td>27000.0</td>\n      <td>448130642.0</td>\n      <td>Action|Thriller</td>\n      <td>...</td>\n      <td>2701.0</td>\n      <td>English</td>\n      <td>USA</td>\n      <td>PG-13</td>\n      <td>250000000.0</td>\n      <td>2012.0</td>\n      <td>23000.0</td>\n      <td>8.5</td>\n      <td>2.35</td>\n      <td>164000</td>\n    </tr>\n    <tr>\n      <th>4</th>\n      <td>NaN</td>\n      <td>Doug Walker</td>\n      <td>NaN</td>\n      <td>NaN</td>\n      <td>131.0</td>\n      <td>NaN</td>\n      <td>Rob Walker</td>\n      <td>131.0</td>\n      <td>NaN</td>\n      <td>Documentary</td>\n      <td>...</td>\n      <td>NaN</td>\n      <td>NaN</td>\n      <td>NaN</td>\n      <td>NaN</td>\n      <td>NaN</td>\n      <td>NaN</td>\n      <td>12.0</td>\n      <td>7.1</td>\n      <td>NaN</td>\n      <td>0</td>\n    </tr>\n    <tr>\n      <th>...</th>\n      <td>...</td>\n      <td>...</td>\n      <td>...</td>\n      <td>...</td>\n      <td>...</td>\n      <td>...</td>\n      <td>...</td>\n      <td>...</td>\n      <td>...</td>\n      <td>...</td>\n      <td>...</td>\n      <td>...</td>\n      <td>...</td>\n      <td>...</td>\n      <td>...</td>\n      <td>...</td>\n      <td>...</td>\n      <td>...</td>\n      <td>...</td>\n      <td>...</td>\n      <td>...</td>\n    </tr>\n    <tr>\n      <th>4911</th>\n      <td>Color</td>\n      <td>Scott Smith</td>\n      <td>1.0</td>\n      <td>87.0</td>\n      <td>2.0</td>\n      <td>318.0</td>\n      <td>Daphne Zuniga</td>\n      <td>637.0</td>\n      <td>NaN</td>\n      <td>Comedy|Drama</td>\n      <td>...</td>\n      <td>6.0</td>\n      <td>English</td>\n      <td>Canada</td>\n      <td>NaN</td>\n      <td>NaN</td>\n      <td>2013.0</td>\n      <td>470.0</td>\n      <td>7.7</td>\n      <td>NaN</td>\n      <td>84</td>\n    </tr>\n    <tr>\n      <th>4912</th>\n      <td>Color</td>\n      <td>NaN</td>\n      <td>43.0</td>\n      <td>43.0</td>\n      <td>NaN</td>\n      <td>319.0</td>\n      <td>Valorie Curry</td>\n      <td>841.0</td>\n      <td>NaN</td>\n      <td>Crime|Drama|Mystery|Thriller</td>\n      <td>...</td>\n      <td>359.0</td>\n      <td>English</td>\n      <td>USA</td>\n      <td>TV-14</td>\n      <td>NaN</td>\n      <td>NaN</td>\n      <td>593.0</td>\n      <td>7.5</td>\n      <td>16.00</td>\n      <td>32000</td>\n    </tr>\n    <tr>\n      <th>4913</th>\n      <td>Color</td>\n      <td>Benjamin Roberds</td>\n      <td>13.0</td>\n      <td>76.0</td>\n      <td>0.0</td>\n      <td>0.0</td>\n      <td>Maxwell Moody</td>\n      <td>0.0</td>\n      <td>NaN</td>\n      <td>Drama|Horror|Thriller</td>\n      <td>...</td>\n      <td>3.0</td>\n      <td>English</td>\n      <td>USA</td>\n      <td>NaN</td>\n      <td>1400.0</td>\n      <td>2013.0</td>\n      <td>0.0</td>\n      <td>6.3</td>\n      <td>NaN</td>\n      <td>16</td>\n    </tr>\n    <tr>\n      <th>4914</th>\n      <td>Color</td>\n      <td>Daniel Hsia</td>\n      <td>14.0</td>\n      <td>100.0</td>\n      <td>0.0</td>\n      <td>489.0</td>\n      <td>Daniel Henney</td>\n      <td>946.0</td>\n      <td>10443.0</td>\n      <td>Comedy|Drama|Romance</td>\n      <td>...</td>\n      <td>9.0</td>\n      <td>English</td>\n      <td>USA</td>\n      <td>PG-13</td>\n      <td>NaN</td>\n      <td>2012.0</td>\n      <td>719.0</td>\n      <td>6.3</td>\n      <td>2.35</td>\n      <td>660</td>\n    </tr>\n    <tr>\n      <th>4915</th>\n      <td>Color</td>\n      <td>Jon Gunn</td>\n      <td>43.0</td>\n      <td>90.0</td>\n      <td>16.0</td>\n      <td>16.0</td>\n      <td>Brian Herzlinger</td>\n      <td>86.0</td>\n      <td>85222.0</td>\n      <td>Documentary</td>\n      <td>...</td>\n      <td>84.0</td>\n      <td>English</td>\n      <td>USA</td>\n      <td>PG</td>\n      <td>1100.0</td>\n      <td>2004.0</td>\n      <td>23.0</td>\n      <td>6.6</td>\n      <td>1.85</td>\n      <td>456</td>\n    </tr>\n  </tbody>\n</table>\n<p>4916 rows × 28 columns</p>\n</div>"
     },
     "metadata": {},
     "execution_count": 33
    }
   ],
   "source": [
    "indexList = movie.index.to_list()\n",
    "indexList[0] = 148921741\n",
    "movie.index = indexList\n",
    "movie"
   ]
  },
  {
   "source": [
    "## 열의 생성과 삭제\n",
    "\n"
   ],
   "cell_type": "markdown",
   "metadata": {}
  },
  {
   "cell_type": "code",
   "execution_count": 34,
   "metadata": {},
   "outputs": [
    {
     "output_type": "execute_result",
     "data": {
      "text/plain": "           color      director_name  num_critic_for_reviews  duration  \\\n148921741  Color      James Cameron                   723.0     178.0   \n1          Color     Gore Verbinski                   302.0     169.0   \n2          Color         Sam Mendes                   602.0     148.0   \n3          Color  Christopher Nolan                   813.0     164.0   \n4            NaN        Doug Walker                     NaN       NaN   \n...          ...                ...                     ...       ...   \n4911       Color        Scott Smith                     1.0      87.0   \n4912       Color                NaN                    43.0      43.0   \n4913       Color   Benjamin Roberds                    13.0      76.0   \n4914       Color        Daniel Hsia                    14.0     100.0   \n4915       Color           Jon Gunn                    43.0      90.0   \n\n           director_facebook_likes  actor_3_facebook_likes      actor_2_name  \\\n148921741                      0.0                   855.0  Joel David Moore   \n1                            563.0                  1000.0     Orlando Bloom   \n2                              0.0                   161.0      Rory Kinnear   \n3                          22000.0                 23000.0    Christian Bale   \n4                            131.0                     NaN        Rob Walker   \n...                            ...                     ...               ...   \n4911                           2.0                   318.0     Daphne Zuniga   \n4912                           NaN                   319.0     Valorie Curry   \n4913                           0.0                     0.0     Maxwell Moody   \n4914                           0.0                   489.0     Daniel Henney   \n4915                          16.0                    16.0  Brian Herzlinger   \n\n           actor_1_facebook_likes        gross  \\\n148921741                  1000.0  760505847.0   \n1                         40000.0  309404152.0   \n2                         11000.0  200074175.0   \n3                         27000.0  448130642.0   \n4                           131.0          NaN   \n...                           ...          ...   \n4911                        637.0          NaN   \n4912                        841.0          NaN   \n4913                          0.0          NaN   \n4914                        946.0      10443.0   \n4915                         86.0      85222.0   \n\n                                    genres  ... language country  \\\n148921741  Action|Adventure|Fantasy|Sci-Fi  ...  English     USA   \n1                 Action|Adventure|Fantasy  ...  English     USA   \n2                Action|Adventure|Thriller  ...  English      UK   \n3                          Action|Thriller  ...  English     USA   \n4                              Documentary  ...      NaN     NaN   \n...                                    ...  ...      ...     ...   \n4911                          Comedy|Drama  ...  English  Canada   \n4912          Crime|Drama|Mystery|Thriller  ...  English     USA   \n4913                 Drama|Horror|Thriller  ...  English     USA   \n4914                  Comedy|Drama|Romance  ...  English     USA   \n4915                           Documentary  ...  English     USA   \n\n           content_rating       budget title_year  actor_2_facebook_likes  \\\n148921741           PG-13  237000000.0     2009.0                   936.0   \n1                   PG-13  300000000.0     2007.0                  5000.0   \n2                   PG-13  245000000.0     2015.0                   393.0   \n3                   PG-13  250000000.0     2012.0                 23000.0   \n4                     NaN          NaN        NaN                    12.0   \n...                   ...          ...        ...                     ...   \n4911                  NaN          NaN     2013.0                   470.0   \n4912                TV-14          NaN        NaN                   593.0   \n4913                  NaN       1400.0     2013.0                     0.0   \n4914                PG-13          NaN     2012.0                   719.0   \n4915                   PG       1100.0     2004.0                    23.0   \n\n          imdb_score aspect_ratio  movie_facebook_likes     hi  \n148921741        7.9         1.78                 33000  356.0  \n1                7.1         2.35                     0  338.0  \n2                6.8         2.35                 85000  296.0  \n3                8.5         2.35                164000  328.0  \n4                7.1          NaN                     0    NaN  \n...              ...          ...                   ...    ...  \n4911             7.7          NaN                    84  174.0  \n4912             7.5        16.00                 32000   86.0  \n4913             6.3          NaN                    16  152.0  \n4914             6.3         2.35                   660  200.0  \n4915             6.6         1.85                   456  180.0  \n\n[4916 rows x 29 columns]",
      "text/html": "<div>\n<style scoped>\n    .dataframe tbody tr th:only-of-type {\n        vertical-align: middle;\n    }\n\n    .dataframe tbody tr th {\n        vertical-align: top;\n    }\n\n    .dataframe thead th {\n        text-align: right;\n    }\n</style>\n<table border=\"1\" class=\"dataframe\">\n  <thead>\n    <tr style=\"text-align: right;\">\n      <th></th>\n      <th>color</th>\n      <th>director_name</th>\n      <th>num_critic_for_reviews</th>\n      <th>duration</th>\n      <th>director_facebook_likes</th>\n      <th>actor_3_facebook_likes</th>\n      <th>actor_2_name</th>\n      <th>actor_1_facebook_likes</th>\n      <th>gross</th>\n      <th>genres</th>\n      <th>...</th>\n      <th>language</th>\n      <th>country</th>\n      <th>content_rating</th>\n      <th>budget</th>\n      <th>title_year</th>\n      <th>actor_2_facebook_likes</th>\n      <th>imdb_score</th>\n      <th>aspect_ratio</th>\n      <th>movie_facebook_likes</th>\n      <th>hi</th>\n    </tr>\n  </thead>\n  <tbody>\n    <tr>\n      <th>148921741</th>\n      <td>Color</td>\n      <td>James Cameron</td>\n      <td>723.0</td>\n      <td>178.0</td>\n      <td>0.0</td>\n      <td>855.0</td>\n      <td>Joel David Moore</td>\n      <td>1000.0</td>\n      <td>760505847.0</td>\n      <td>Action|Adventure|Fantasy|Sci-Fi</td>\n      <td>...</td>\n      <td>English</td>\n      <td>USA</td>\n      <td>PG-13</td>\n      <td>237000000.0</td>\n      <td>2009.0</td>\n      <td>936.0</td>\n      <td>7.9</td>\n      <td>1.78</td>\n      <td>33000</td>\n      <td>356.0</td>\n    </tr>\n    <tr>\n      <th>1</th>\n      <td>Color</td>\n      <td>Gore Verbinski</td>\n      <td>302.0</td>\n      <td>169.0</td>\n      <td>563.0</td>\n      <td>1000.0</td>\n      <td>Orlando Bloom</td>\n      <td>40000.0</td>\n      <td>309404152.0</td>\n      <td>Action|Adventure|Fantasy</td>\n      <td>...</td>\n      <td>English</td>\n      <td>USA</td>\n      <td>PG-13</td>\n      <td>300000000.0</td>\n      <td>2007.0</td>\n      <td>5000.0</td>\n      <td>7.1</td>\n      <td>2.35</td>\n      <td>0</td>\n      <td>338.0</td>\n    </tr>\n    <tr>\n      <th>2</th>\n      <td>Color</td>\n      <td>Sam Mendes</td>\n      <td>602.0</td>\n      <td>148.0</td>\n      <td>0.0</td>\n      <td>161.0</td>\n      <td>Rory Kinnear</td>\n      <td>11000.0</td>\n      <td>200074175.0</td>\n      <td>Action|Adventure|Thriller</td>\n      <td>...</td>\n      <td>English</td>\n      <td>UK</td>\n      <td>PG-13</td>\n      <td>245000000.0</td>\n      <td>2015.0</td>\n      <td>393.0</td>\n      <td>6.8</td>\n      <td>2.35</td>\n      <td>85000</td>\n      <td>296.0</td>\n    </tr>\n    <tr>\n      <th>3</th>\n      <td>Color</td>\n      <td>Christopher Nolan</td>\n      <td>813.0</td>\n      <td>164.0</td>\n      <td>22000.0</td>\n      <td>23000.0</td>\n      <td>Christian Bale</td>\n      <td>27000.0</td>\n      <td>448130642.0</td>\n      <td>Action|Thriller</td>\n      <td>...</td>\n      <td>English</td>\n      <td>USA</td>\n      <td>PG-13</td>\n      <td>250000000.0</td>\n      <td>2012.0</td>\n      <td>23000.0</td>\n      <td>8.5</td>\n      <td>2.35</td>\n      <td>164000</td>\n      <td>328.0</td>\n    </tr>\n    <tr>\n      <th>4</th>\n      <td>NaN</td>\n      <td>Doug Walker</td>\n      <td>NaN</td>\n      <td>NaN</td>\n      <td>131.0</td>\n      <td>NaN</td>\n      <td>Rob Walker</td>\n      <td>131.0</td>\n      <td>NaN</td>\n      <td>Documentary</td>\n      <td>...</td>\n      <td>NaN</td>\n      <td>NaN</td>\n      <td>NaN</td>\n      <td>NaN</td>\n      <td>NaN</td>\n      <td>12.0</td>\n      <td>7.1</td>\n      <td>NaN</td>\n      <td>0</td>\n      <td>NaN</td>\n    </tr>\n    <tr>\n      <th>...</th>\n      <td>...</td>\n      <td>...</td>\n      <td>...</td>\n      <td>...</td>\n      <td>...</td>\n      <td>...</td>\n      <td>...</td>\n      <td>...</td>\n      <td>...</td>\n      <td>...</td>\n      <td>...</td>\n      <td>...</td>\n      <td>...</td>\n      <td>...</td>\n      <td>...</td>\n      <td>...</td>\n      <td>...</td>\n      <td>...</td>\n      <td>...</td>\n      <td>...</td>\n      <td>...</td>\n    </tr>\n    <tr>\n      <th>4911</th>\n      <td>Color</td>\n      <td>Scott Smith</td>\n      <td>1.0</td>\n      <td>87.0</td>\n      <td>2.0</td>\n      <td>318.0</td>\n      <td>Daphne Zuniga</td>\n      <td>637.0</td>\n      <td>NaN</td>\n      <td>Comedy|Drama</td>\n      <td>...</td>\n      <td>English</td>\n      <td>Canada</td>\n      <td>NaN</td>\n      <td>NaN</td>\n      <td>2013.0</td>\n      <td>470.0</td>\n      <td>7.7</td>\n      <td>NaN</td>\n      <td>84</td>\n      <td>174.0</td>\n    </tr>\n    <tr>\n      <th>4912</th>\n      <td>Color</td>\n      <td>NaN</td>\n      <td>43.0</td>\n      <td>43.0</td>\n      <td>NaN</td>\n      <td>319.0</td>\n      <td>Valorie Curry</td>\n      <td>841.0</td>\n      <td>NaN</td>\n      <td>Crime|Drama|Mystery|Thriller</td>\n      <td>...</td>\n      <td>English</td>\n      <td>USA</td>\n      <td>TV-14</td>\n      <td>NaN</td>\n      <td>NaN</td>\n      <td>593.0</td>\n      <td>7.5</td>\n      <td>16.00</td>\n      <td>32000</td>\n      <td>86.0</td>\n    </tr>\n    <tr>\n      <th>4913</th>\n      <td>Color</td>\n      <td>Benjamin Roberds</td>\n      <td>13.0</td>\n      <td>76.0</td>\n      <td>0.0</td>\n      <td>0.0</td>\n      <td>Maxwell Moody</td>\n      <td>0.0</td>\n      <td>NaN</td>\n      <td>Drama|Horror|Thriller</td>\n      <td>...</td>\n      <td>English</td>\n      <td>USA</td>\n      <td>NaN</td>\n      <td>1400.0</td>\n      <td>2013.0</td>\n      <td>0.0</td>\n      <td>6.3</td>\n      <td>NaN</td>\n      <td>16</td>\n      <td>152.0</td>\n    </tr>\n    <tr>\n      <th>4914</th>\n      <td>Color</td>\n      <td>Daniel Hsia</td>\n      <td>14.0</td>\n      <td>100.0</td>\n      <td>0.0</td>\n      <td>489.0</td>\n      <td>Daniel Henney</td>\n      <td>946.0</td>\n      <td>10443.0</td>\n      <td>Comedy|Drama|Romance</td>\n      <td>...</td>\n      <td>English</td>\n      <td>USA</td>\n      <td>PG-13</td>\n      <td>NaN</td>\n      <td>2012.0</td>\n      <td>719.0</td>\n      <td>6.3</td>\n      <td>2.35</td>\n      <td>660</td>\n      <td>200.0</td>\n    </tr>\n    <tr>\n      <th>4915</th>\n      <td>Color</td>\n      <td>Jon Gunn</td>\n      <td>43.0</td>\n      <td>90.0</td>\n      <td>16.0</td>\n      <td>16.0</td>\n      <td>Brian Herzlinger</td>\n      <td>86.0</td>\n      <td>85222.0</td>\n      <td>Documentary</td>\n      <td>...</td>\n      <td>English</td>\n      <td>USA</td>\n      <td>PG</td>\n      <td>1100.0</td>\n      <td>2004.0</td>\n      <td>23.0</td>\n      <td>6.6</td>\n      <td>1.85</td>\n      <td>456</td>\n      <td>180.0</td>\n    </tr>\n  </tbody>\n</table>\n<p>4916 rows × 29 columns</p>\n</div>"
     },
     "metadata": {},
     "execution_count": 34
    }
   ],
   "source": [
    "movie['hi'] = 0\n",
    "movie['hi'] = movie.duration + movie.duration\n",
    "movie\n"
   ]
  },
  {
   "cell_type": "code",
   "execution_count": 35,
   "metadata": {},
   "outputs": [
    {
     "output_type": "execute_result",
     "data": {
      "text/plain": "               director_name  num_critic_for_reviews  duration  \\\n148921741      James Cameron                   723.0     178.0   \n1             Gore Verbinski                   302.0     169.0   \n2                 Sam Mendes                   602.0     148.0   \n3          Christopher Nolan                   813.0     164.0   \n4                Doug Walker                     NaN       NaN   \n...                      ...                     ...       ...   \n4911             Scott Smith                     1.0      87.0   \n4912                     NaN                    43.0      43.0   \n4913        Benjamin Roberds                    13.0      76.0   \n4914             Daniel Hsia                    14.0     100.0   \n4915                Jon Gunn                    43.0      90.0   \n\n           director_facebook_likes  actor_3_facebook_likes      actor_2_name  \\\n148921741                      0.0                   855.0  Joel David Moore   \n1                            563.0                  1000.0     Orlando Bloom   \n2                              0.0                   161.0      Rory Kinnear   \n3                          22000.0                 23000.0    Christian Bale   \n4                            131.0                     NaN        Rob Walker   \n...                            ...                     ...               ...   \n4911                           2.0                   318.0     Daphne Zuniga   \n4912                           NaN                   319.0     Valorie Curry   \n4913                           0.0                     0.0     Maxwell Moody   \n4914                           0.0                   489.0     Daniel Henney   \n4915                          16.0                    16.0  Brian Herzlinger   \n\n           actor_1_facebook_likes        gross  \\\n148921741                  1000.0  760505847.0   \n1                         40000.0  309404152.0   \n2                         11000.0  200074175.0   \n3                         27000.0  448130642.0   \n4                           131.0          NaN   \n...                           ...          ...   \n4911                        637.0          NaN   \n4912                        841.0          NaN   \n4913                          0.0          NaN   \n4914                        946.0      10443.0   \n4915                         86.0      85222.0   \n\n                                    genres     actor_1_name  ... language  \\\n148921741  Action|Adventure|Fantasy|Sci-Fi      CCH Pounder  ...  English   \n1                 Action|Adventure|Fantasy      Johnny Depp  ...  English   \n2                Action|Adventure|Thriller  Christoph Waltz  ...  English   \n3                          Action|Thriller        Tom Hardy  ...  English   \n4                              Documentary      Doug Walker  ...      NaN   \n...                                    ...              ...  ...      ...   \n4911                          Comedy|Drama      Eric Mabius  ...  English   \n4912          Crime|Drama|Mystery|Thriller      Natalie Zea  ...  English   \n4913                 Drama|Horror|Thriller      Eva Boehnke  ...  English   \n4914                  Comedy|Drama|Romance        Alan Ruck  ...  English   \n4915                           Documentary      John August  ...  English   \n\n           country  content_rating       budget  title_year  \\\n148921741      USA           PG-13  237000000.0      2009.0   \n1              USA           PG-13  300000000.0      2007.0   \n2               UK           PG-13  245000000.0      2015.0   \n3              USA           PG-13  250000000.0      2012.0   \n4              NaN             NaN          NaN         NaN   \n...            ...             ...          ...         ...   \n4911        Canada             NaN          NaN      2013.0   \n4912           USA           TV-14          NaN         NaN   \n4913           USA             NaN       1400.0      2013.0   \n4914           USA           PG-13          NaN      2012.0   \n4915           USA              PG       1100.0      2004.0   \n\n          actor_2_facebook_likes imdb_score  aspect_ratio  \\\n148921741                  936.0        7.9          1.78   \n1                         5000.0        7.1          2.35   \n2                          393.0        6.8          2.35   \n3                        23000.0        8.5          2.35   \n4                           12.0        7.1           NaN   \n...                          ...        ...           ...   \n4911                       470.0        7.7           NaN   \n4912                       593.0        7.5         16.00   \n4913                         0.0        6.3           NaN   \n4914                       719.0        6.3          2.35   \n4915                        23.0        6.6          1.85   \n\n          movie_facebook_likes     hi  \n148921741                33000  356.0  \n1                            0  338.0  \n2                        85000  296.0  \n3                       164000  328.0  \n4                            0    NaN  \n...                        ...    ...  \n4911                        84  174.0  \n4912                     32000   86.0  \n4913                        16  152.0  \n4914                       660  200.0  \n4915                       456  180.0  \n\n[4916 rows x 28 columns]",
      "text/html": "<div>\n<style scoped>\n    .dataframe tbody tr th:only-of-type {\n        vertical-align: middle;\n    }\n\n    .dataframe tbody tr th {\n        vertical-align: top;\n    }\n\n    .dataframe thead th {\n        text-align: right;\n    }\n</style>\n<table border=\"1\" class=\"dataframe\">\n  <thead>\n    <tr style=\"text-align: right;\">\n      <th></th>\n      <th>director_name</th>\n      <th>num_critic_for_reviews</th>\n      <th>duration</th>\n      <th>director_facebook_likes</th>\n      <th>actor_3_facebook_likes</th>\n      <th>actor_2_name</th>\n      <th>actor_1_facebook_likes</th>\n      <th>gross</th>\n      <th>genres</th>\n      <th>actor_1_name</th>\n      <th>...</th>\n      <th>language</th>\n      <th>country</th>\n      <th>content_rating</th>\n      <th>budget</th>\n      <th>title_year</th>\n      <th>actor_2_facebook_likes</th>\n      <th>imdb_score</th>\n      <th>aspect_ratio</th>\n      <th>movie_facebook_likes</th>\n      <th>hi</th>\n    </tr>\n  </thead>\n  <tbody>\n    <tr>\n      <th>148921741</th>\n      <td>James Cameron</td>\n      <td>723.0</td>\n      <td>178.0</td>\n      <td>0.0</td>\n      <td>855.0</td>\n      <td>Joel David Moore</td>\n      <td>1000.0</td>\n      <td>760505847.0</td>\n      <td>Action|Adventure|Fantasy|Sci-Fi</td>\n      <td>CCH Pounder</td>\n      <td>...</td>\n      <td>English</td>\n      <td>USA</td>\n      <td>PG-13</td>\n      <td>237000000.0</td>\n      <td>2009.0</td>\n      <td>936.0</td>\n      <td>7.9</td>\n      <td>1.78</td>\n      <td>33000</td>\n      <td>356.0</td>\n    </tr>\n    <tr>\n      <th>1</th>\n      <td>Gore Verbinski</td>\n      <td>302.0</td>\n      <td>169.0</td>\n      <td>563.0</td>\n      <td>1000.0</td>\n      <td>Orlando Bloom</td>\n      <td>40000.0</td>\n      <td>309404152.0</td>\n      <td>Action|Adventure|Fantasy</td>\n      <td>Johnny Depp</td>\n      <td>...</td>\n      <td>English</td>\n      <td>USA</td>\n      <td>PG-13</td>\n      <td>300000000.0</td>\n      <td>2007.0</td>\n      <td>5000.0</td>\n      <td>7.1</td>\n      <td>2.35</td>\n      <td>0</td>\n      <td>338.0</td>\n    </tr>\n    <tr>\n      <th>2</th>\n      <td>Sam Mendes</td>\n      <td>602.0</td>\n      <td>148.0</td>\n      <td>0.0</td>\n      <td>161.0</td>\n      <td>Rory Kinnear</td>\n      <td>11000.0</td>\n      <td>200074175.0</td>\n      <td>Action|Adventure|Thriller</td>\n      <td>Christoph Waltz</td>\n      <td>...</td>\n      <td>English</td>\n      <td>UK</td>\n      <td>PG-13</td>\n      <td>245000000.0</td>\n      <td>2015.0</td>\n      <td>393.0</td>\n      <td>6.8</td>\n      <td>2.35</td>\n      <td>85000</td>\n      <td>296.0</td>\n    </tr>\n    <tr>\n      <th>3</th>\n      <td>Christopher Nolan</td>\n      <td>813.0</td>\n      <td>164.0</td>\n      <td>22000.0</td>\n      <td>23000.0</td>\n      <td>Christian Bale</td>\n      <td>27000.0</td>\n      <td>448130642.0</td>\n      <td>Action|Thriller</td>\n      <td>Tom Hardy</td>\n      <td>...</td>\n      <td>English</td>\n      <td>USA</td>\n      <td>PG-13</td>\n      <td>250000000.0</td>\n      <td>2012.0</td>\n      <td>23000.0</td>\n      <td>8.5</td>\n      <td>2.35</td>\n      <td>164000</td>\n      <td>328.0</td>\n    </tr>\n    <tr>\n      <th>4</th>\n      <td>Doug Walker</td>\n      <td>NaN</td>\n      <td>NaN</td>\n      <td>131.0</td>\n      <td>NaN</td>\n      <td>Rob Walker</td>\n      <td>131.0</td>\n      <td>NaN</td>\n      <td>Documentary</td>\n      <td>Doug Walker</td>\n      <td>...</td>\n      <td>NaN</td>\n      <td>NaN</td>\n      <td>NaN</td>\n      <td>NaN</td>\n      <td>NaN</td>\n      <td>12.0</td>\n      <td>7.1</td>\n      <td>NaN</td>\n      <td>0</td>\n      <td>NaN</td>\n    </tr>\n    <tr>\n      <th>...</th>\n      <td>...</td>\n      <td>...</td>\n      <td>...</td>\n      <td>...</td>\n      <td>...</td>\n      <td>...</td>\n      <td>...</td>\n      <td>...</td>\n      <td>...</td>\n      <td>...</td>\n      <td>...</td>\n      <td>...</td>\n      <td>...</td>\n      <td>...</td>\n      <td>...</td>\n      <td>...</td>\n      <td>...</td>\n      <td>...</td>\n      <td>...</td>\n      <td>...</td>\n      <td>...</td>\n    </tr>\n    <tr>\n      <th>4911</th>\n      <td>Scott Smith</td>\n      <td>1.0</td>\n      <td>87.0</td>\n      <td>2.0</td>\n      <td>318.0</td>\n      <td>Daphne Zuniga</td>\n      <td>637.0</td>\n      <td>NaN</td>\n      <td>Comedy|Drama</td>\n      <td>Eric Mabius</td>\n      <td>...</td>\n      <td>English</td>\n      <td>Canada</td>\n      <td>NaN</td>\n      <td>NaN</td>\n      <td>2013.0</td>\n      <td>470.0</td>\n      <td>7.7</td>\n      <td>NaN</td>\n      <td>84</td>\n      <td>174.0</td>\n    </tr>\n    <tr>\n      <th>4912</th>\n      <td>NaN</td>\n      <td>43.0</td>\n      <td>43.0</td>\n      <td>NaN</td>\n      <td>319.0</td>\n      <td>Valorie Curry</td>\n      <td>841.0</td>\n      <td>NaN</td>\n      <td>Crime|Drama|Mystery|Thriller</td>\n      <td>Natalie Zea</td>\n      <td>...</td>\n      <td>English</td>\n      <td>USA</td>\n      <td>TV-14</td>\n      <td>NaN</td>\n      <td>NaN</td>\n      <td>593.0</td>\n      <td>7.5</td>\n      <td>16.00</td>\n      <td>32000</td>\n      <td>86.0</td>\n    </tr>\n    <tr>\n      <th>4913</th>\n      <td>Benjamin Roberds</td>\n      <td>13.0</td>\n      <td>76.0</td>\n      <td>0.0</td>\n      <td>0.0</td>\n      <td>Maxwell Moody</td>\n      <td>0.0</td>\n      <td>NaN</td>\n      <td>Drama|Horror|Thriller</td>\n      <td>Eva Boehnke</td>\n      <td>...</td>\n      <td>English</td>\n      <td>USA</td>\n      <td>NaN</td>\n      <td>1400.0</td>\n      <td>2013.0</td>\n      <td>0.0</td>\n      <td>6.3</td>\n      <td>NaN</td>\n      <td>16</td>\n      <td>152.0</td>\n    </tr>\n    <tr>\n      <th>4914</th>\n      <td>Daniel Hsia</td>\n      <td>14.0</td>\n      <td>100.0</td>\n      <td>0.0</td>\n      <td>489.0</td>\n      <td>Daniel Henney</td>\n      <td>946.0</td>\n      <td>10443.0</td>\n      <td>Comedy|Drama|Romance</td>\n      <td>Alan Ruck</td>\n      <td>...</td>\n      <td>English</td>\n      <td>USA</td>\n      <td>PG-13</td>\n      <td>NaN</td>\n      <td>2012.0</td>\n      <td>719.0</td>\n      <td>6.3</td>\n      <td>2.35</td>\n      <td>660</td>\n      <td>200.0</td>\n    </tr>\n    <tr>\n      <th>4915</th>\n      <td>Jon Gunn</td>\n      <td>43.0</td>\n      <td>90.0</td>\n      <td>16.0</td>\n      <td>16.0</td>\n      <td>Brian Herzlinger</td>\n      <td>86.0</td>\n      <td>85222.0</td>\n      <td>Documentary</td>\n      <td>John August</td>\n      <td>...</td>\n      <td>English</td>\n      <td>USA</td>\n      <td>PG</td>\n      <td>1100.0</td>\n      <td>2004.0</td>\n      <td>23.0</td>\n      <td>6.6</td>\n      <td>1.85</td>\n      <td>456</td>\n      <td>180.0</td>\n    </tr>\n  </tbody>\n</table>\n<p>4916 rows × 28 columns</p>\n</div>"
     },
     "metadata": {},
     "execution_count": 35
    }
   ],
   "source": [
    "movie.drop(\"color\", axis=\"columns\")"
   ]
  },
  {
   "cell_type": "code",
   "execution_count": 36,
   "metadata": {},
   "outputs": [
    {
     "output_type": "execute_result",
     "data": {
      "text/plain": "           new column after color2      director_name  num_critic_for_reviews  \\\n148921741                        0      James Cameron                   723.0   \n1                                0     Gore Verbinski                   302.0   \n2                                0         Sam Mendes                   602.0   \n3                                0  Christopher Nolan                   813.0   \n4                                0        Doug Walker                     NaN   \n...                            ...                ...                     ...   \n4911                             0        Scott Smith                     1.0   \n4912                             0                NaN                    43.0   \n4913                             0   Benjamin Roberds                    13.0   \n4914                             0        Daniel Hsia                    14.0   \n4915                             0           Jon Gunn                    43.0   \n\n           duration  director_facebook_likes  actor_3_facebook_likes  \\\n148921741     178.0                      0.0                   855.0   \n1             169.0                    563.0                  1000.0   \n2             148.0                      0.0                   161.0   \n3             164.0                  22000.0                 23000.0   \n4               NaN                    131.0                     NaN   \n...             ...                      ...                     ...   \n4911           87.0                      2.0                   318.0   \n4912           43.0                      NaN                   319.0   \n4913           76.0                      0.0                     0.0   \n4914          100.0                      0.0                   489.0   \n4915           90.0                     16.0                    16.0   \n\n               actor_2_name  actor_1_facebook_likes        gross  \\\n148921741  Joel David Moore                  1000.0  760505847.0   \n1             Orlando Bloom                 40000.0  309404152.0   \n2              Rory Kinnear                 11000.0  200074175.0   \n3            Christian Bale                 27000.0  448130642.0   \n4                Rob Walker                   131.0          NaN   \n...                     ...                     ...          ...   \n4911          Daphne Zuniga                   637.0          NaN   \n4912          Valorie Curry                   841.0          NaN   \n4913          Maxwell Moody                     0.0          NaN   \n4914          Daniel Henney                   946.0      10443.0   \n4915       Brian Herzlinger                    86.0      85222.0   \n\n                                    genres  ... language country  \\\n148921741  Action|Adventure|Fantasy|Sci-Fi  ...  English     USA   \n1                 Action|Adventure|Fantasy  ...  English     USA   \n2                Action|Adventure|Thriller  ...  English      UK   \n3                          Action|Thriller  ...  English     USA   \n4                              Documentary  ...      NaN     NaN   \n...                                    ...  ...      ...     ...   \n4911                          Comedy|Drama  ...  English  Canada   \n4912          Crime|Drama|Mystery|Thriller  ...  English     USA   \n4913                 Drama|Horror|Thriller  ...  English     USA   \n4914                  Comedy|Drama|Romance  ...  English     USA   \n4915                           Documentary  ...  English     USA   \n\n           content_rating       budget title_year  actor_2_facebook_likes  \\\n148921741           PG-13  237000000.0     2009.0                   936.0   \n1                   PG-13  300000000.0     2007.0                  5000.0   \n2                   PG-13  245000000.0     2015.0                   393.0   \n3                   PG-13  250000000.0     2012.0                 23000.0   \n4                     NaN          NaN        NaN                    12.0   \n...                   ...          ...        ...                     ...   \n4911                  NaN          NaN     2013.0                   470.0   \n4912                TV-14          NaN        NaN                   593.0   \n4913                  NaN       1400.0     2013.0                     0.0   \n4914                PG-13          NaN     2012.0                   719.0   \n4915                   PG       1100.0     2004.0                    23.0   \n\n          imdb_score aspect_ratio  movie_facebook_likes     hi  \n148921741        7.9         1.78                 33000  356.0  \n1                7.1         2.35                     0  338.0  \n2                6.8         2.35                 85000  296.0  \n3                8.5         2.35                164000  328.0  \n4                7.1          NaN                     0    NaN  \n...              ...          ...                   ...    ...  \n4911             7.7          NaN                    84  174.0  \n4912             7.5        16.00                 32000   86.0  \n4913             6.3          NaN                    16  152.0  \n4914             6.3         2.35                   660  200.0  \n4915             6.6         1.85                   456  180.0  \n\n[4916 rows x 29 columns]",
      "text/html": "<div>\n<style scoped>\n    .dataframe tbody tr th:only-of-type {\n        vertical-align: middle;\n    }\n\n    .dataframe tbody tr th {\n        vertical-align: top;\n    }\n\n    .dataframe thead th {\n        text-align: right;\n    }\n</style>\n<table border=\"1\" class=\"dataframe\">\n  <thead>\n    <tr style=\"text-align: right;\">\n      <th></th>\n      <th>new column after color2</th>\n      <th>director_name</th>\n      <th>num_critic_for_reviews</th>\n      <th>duration</th>\n      <th>director_facebook_likes</th>\n      <th>actor_3_facebook_likes</th>\n      <th>actor_2_name</th>\n      <th>actor_1_facebook_likes</th>\n      <th>gross</th>\n      <th>genres</th>\n      <th>...</th>\n      <th>language</th>\n      <th>country</th>\n      <th>content_rating</th>\n      <th>budget</th>\n      <th>title_year</th>\n      <th>actor_2_facebook_likes</th>\n      <th>imdb_score</th>\n      <th>aspect_ratio</th>\n      <th>movie_facebook_likes</th>\n      <th>hi</th>\n    </tr>\n  </thead>\n  <tbody>\n    <tr>\n      <th>148921741</th>\n      <td>0</td>\n      <td>James Cameron</td>\n      <td>723.0</td>\n      <td>178.0</td>\n      <td>0.0</td>\n      <td>855.0</td>\n      <td>Joel David Moore</td>\n      <td>1000.0</td>\n      <td>760505847.0</td>\n      <td>Action|Adventure|Fantasy|Sci-Fi</td>\n      <td>...</td>\n      <td>English</td>\n      <td>USA</td>\n      <td>PG-13</td>\n      <td>237000000.0</td>\n      <td>2009.0</td>\n      <td>936.0</td>\n      <td>7.9</td>\n      <td>1.78</td>\n      <td>33000</td>\n      <td>356.0</td>\n    </tr>\n    <tr>\n      <th>1</th>\n      <td>0</td>\n      <td>Gore Verbinski</td>\n      <td>302.0</td>\n      <td>169.0</td>\n      <td>563.0</td>\n      <td>1000.0</td>\n      <td>Orlando Bloom</td>\n      <td>40000.0</td>\n      <td>309404152.0</td>\n      <td>Action|Adventure|Fantasy</td>\n      <td>...</td>\n      <td>English</td>\n      <td>USA</td>\n      <td>PG-13</td>\n      <td>300000000.0</td>\n      <td>2007.0</td>\n      <td>5000.0</td>\n      <td>7.1</td>\n      <td>2.35</td>\n      <td>0</td>\n      <td>338.0</td>\n    </tr>\n    <tr>\n      <th>2</th>\n      <td>0</td>\n      <td>Sam Mendes</td>\n      <td>602.0</td>\n      <td>148.0</td>\n      <td>0.0</td>\n      <td>161.0</td>\n      <td>Rory Kinnear</td>\n      <td>11000.0</td>\n      <td>200074175.0</td>\n      <td>Action|Adventure|Thriller</td>\n      <td>...</td>\n      <td>English</td>\n      <td>UK</td>\n      <td>PG-13</td>\n      <td>245000000.0</td>\n      <td>2015.0</td>\n      <td>393.0</td>\n      <td>6.8</td>\n      <td>2.35</td>\n      <td>85000</td>\n      <td>296.0</td>\n    </tr>\n    <tr>\n      <th>3</th>\n      <td>0</td>\n      <td>Christopher Nolan</td>\n      <td>813.0</td>\n      <td>164.0</td>\n      <td>22000.0</td>\n      <td>23000.0</td>\n      <td>Christian Bale</td>\n      <td>27000.0</td>\n      <td>448130642.0</td>\n      <td>Action|Thriller</td>\n      <td>...</td>\n      <td>English</td>\n      <td>USA</td>\n      <td>PG-13</td>\n      <td>250000000.0</td>\n      <td>2012.0</td>\n      <td>23000.0</td>\n      <td>8.5</td>\n      <td>2.35</td>\n      <td>164000</td>\n      <td>328.0</td>\n    </tr>\n    <tr>\n      <th>4</th>\n      <td>0</td>\n      <td>Doug Walker</td>\n      <td>NaN</td>\n      <td>NaN</td>\n      <td>131.0</td>\n      <td>NaN</td>\n      <td>Rob Walker</td>\n      <td>131.0</td>\n      <td>NaN</td>\n      <td>Documentary</td>\n      <td>...</td>\n      <td>NaN</td>\n      <td>NaN</td>\n      <td>NaN</td>\n      <td>NaN</td>\n      <td>NaN</td>\n      <td>12.0</td>\n      <td>7.1</td>\n      <td>NaN</td>\n      <td>0</td>\n      <td>NaN</td>\n    </tr>\n    <tr>\n      <th>...</th>\n      <td>...</td>\n      <td>...</td>\n      <td>...</td>\n      <td>...</td>\n      <td>...</td>\n      <td>...</td>\n      <td>...</td>\n      <td>...</td>\n      <td>...</td>\n      <td>...</td>\n      <td>...</td>\n      <td>...</td>\n      <td>...</td>\n      <td>...</td>\n      <td>...</td>\n      <td>...</td>\n      <td>...</td>\n      <td>...</td>\n      <td>...</td>\n      <td>...</td>\n      <td>...</td>\n    </tr>\n    <tr>\n      <th>4911</th>\n      <td>0</td>\n      <td>Scott Smith</td>\n      <td>1.0</td>\n      <td>87.0</td>\n      <td>2.0</td>\n      <td>318.0</td>\n      <td>Daphne Zuniga</td>\n      <td>637.0</td>\n      <td>NaN</td>\n      <td>Comedy|Drama</td>\n      <td>...</td>\n      <td>English</td>\n      <td>Canada</td>\n      <td>NaN</td>\n      <td>NaN</td>\n      <td>2013.0</td>\n      <td>470.0</td>\n      <td>7.7</td>\n      <td>NaN</td>\n      <td>84</td>\n      <td>174.0</td>\n    </tr>\n    <tr>\n      <th>4912</th>\n      <td>0</td>\n      <td>NaN</td>\n      <td>43.0</td>\n      <td>43.0</td>\n      <td>NaN</td>\n      <td>319.0</td>\n      <td>Valorie Curry</td>\n      <td>841.0</td>\n      <td>NaN</td>\n      <td>Crime|Drama|Mystery|Thriller</td>\n      <td>...</td>\n      <td>English</td>\n      <td>USA</td>\n      <td>TV-14</td>\n      <td>NaN</td>\n      <td>NaN</td>\n      <td>593.0</td>\n      <td>7.5</td>\n      <td>16.00</td>\n      <td>32000</td>\n      <td>86.0</td>\n    </tr>\n    <tr>\n      <th>4913</th>\n      <td>0</td>\n      <td>Benjamin Roberds</td>\n      <td>13.0</td>\n      <td>76.0</td>\n      <td>0.0</td>\n      <td>0.0</td>\n      <td>Maxwell Moody</td>\n      <td>0.0</td>\n      <td>NaN</td>\n      <td>Drama|Horror|Thriller</td>\n      <td>...</td>\n      <td>English</td>\n      <td>USA</td>\n      <td>NaN</td>\n      <td>1400.0</td>\n      <td>2013.0</td>\n      <td>0.0</td>\n      <td>6.3</td>\n      <td>NaN</td>\n      <td>16</td>\n      <td>152.0</td>\n    </tr>\n    <tr>\n      <th>4914</th>\n      <td>0</td>\n      <td>Daniel Hsia</td>\n      <td>14.0</td>\n      <td>100.0</td>\n      <td>0.0</td>\n      <td>489.0</td>\n      <td>Daniel Henney</td>\n      <td>946.0</td>\n      <td>10443.0</td>\n      <td>Comedy|Drama|Romance</td>\n      <td>...</td>\n      <td>English</td>\n      <td>USA</td>\n      <td>PG-13</td>\n      <td>NaN</td>\n      <td>2012.0</td>\n      <td>719.0</td>\n      <td>6.3</td>\n      <td>2.35</td>\n      <td>660</td>\n      <td>200.0</td>\n    </tr>\n    <tr>\n      <th>4915</th>\n      <td>0</td>\n      <td>Jon Gunn</td>\n      <td>43.0</td>\n      <td>90.0</td>\n      <td>16.0</td>\n      <td>16.0</td>\n      <td>Brian Herzlinger</td>\n      <td>86.0</td>\n      <td>85222.0</td>\n      <td>Documentary</td>\n      <td>...</td>\n      <td>English</td>\n      <td>USA</td>\n      <td>PG</td>\n      <td>1100.0</td>\n      <td>2004.0</td>\n      <td>23.0</td>\n      <td>6.6</td>\n      <td>1.85</td>\n      <td>456</td>\n      <td>180.0</td>\n    </tr>\n  </tbody>\n</table>\n<p>4916 rows × 29 columns</p>\n</div>"
     },
     "metadata": {},
     "execution_count": 36
    }
   ],
   "source": [
    "movie.insert(loc = movie.columns.get_loc(\"color\") + 1, column = \"new column after color2\", value = 0)\n",
    "del movie[\"color\"]\n",
    "movie\n"
   ]
  }
 ]
}